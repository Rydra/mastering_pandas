{
 "cells": [
  {
   "cell_type": "code",
   "execution_count": 1,
   "metadata": {
    "collapsed": true
   },
   "outputs": [],
   "source": [
    "import numpy as np\n",
    "import pandas as pd\n",
    "import matplotlib.pyplot as plt\n",
    "%matplotlib inline"
   ]
  },
  {
   "cell_type": "code",
   "execution_count": 2,
   "metadata": {},
   "outputs": [],
   "source": [
    ""
   ]
  },
  {
   "cell_type": "code",
   "execution_count": 2,
   "metadata": {},
   "outputs": [
    {
     "name": "stdout",
     "output_type": "stream",
     "text": [
      "DatetimeIndex(['2014-05-01', '2014-05-02', '2014-05-05', '2014-05-06',\n               '2014-05-07'],\n              dtype='datetime64[ns]', freq='B')\n"
     ]
    },
    {
     "name": "stderr",
     "output_type": "stream",
     "text": [
      "/home/rydra/devenv/anaconda3/envs/pandasenv/lib/python3.6/site-packages/ipykernel_launcher.py:1: FutureWarning: pandas.core.datetools.bday is deprecated and will be removed in a future version.\n  \"\"\"Entry point for launching an IPython kernel.\n/home/rydra/devenv/anaconda3/envs/pandasenv/lib/python3.6/site-packages/ipykernel_launcher.py:2: FutureWarning: pandas.core.datetools.bday is deprecated and will be removed in a future version.\n  \n"
     ]
    }
   ],
   "source": [
    "pd.date_range('2014-05-01','2014-05-07',freq=pd.datetools.bday)\n",
    "print(pd.date_range('2014-05-01','2014-05-07',freq=pd.datetools.bday))"
   ]
  },
  {
   "cell_type": "code",
   "execution_count": 3,
   "metadata": {},
   "outputs": [],
   "source": [
    "date_stngs = ['2014-05-01','2014-05-02','2014-05-05','2014-05-06','2014-05-07']\n",
    "#tradeDates=[pd.to_datetime(date) for date in date_stngs]\n",
    "tradeDates=pd.to_datetime(pd.Series(date_stngs))"
   ]
  },
  {
   "cell_type": "code",
   "execution_count": 4,
   "metadata": {},
   "outputs": [],
   "source": [
    "tradeDates"
   ]
  },
  {
   "cell_type": "code",
   "execution_count": 5,
   "metadata": {
    "collapsed": true
   },
   "outputs": [],
   "source": [
    "closingPrices=[531.35,527.93,527.81,515.14,509.96]"
   ]
  },
  {
   "cell_type": "code",
   "execution_count": 6,
   "metadata": {},
   "outputs": [],
   "source": [
    "googClosingPrices=pd.DataFrame(data=closingPrices,\n",
    "                                        columns=['closingPrice'], \n",
    "                                        index=tradeDates)"
   ]
  },
  {
   "cell_type": "code",
   "execution_count": 7,
   "metadata": {},
   "outputs": [
    {
     "data": {
      "text/html": [
       "<div>\n",
       "<style>\n",
       "    .dataframe thead tr:only-child th {\n",
       "        text-align: right;\n",
       "    }\n",
       "\n",
       "    .dataframe thead th {\n",
       "        text-align: left;\n",
       "    }\n",
       "\n",
       "    .dataframe tbody tr th {\n",
       "        vertical-align: top;\n",
       "    }\n",
       "</style>\n",
       "<table border=\"1\" class=\"dataframe\">\n",
       "  <thead>\n",
       "    <tr style=\"text-align: right;\">\n",
       "      <th></th>\n",
       "      <th>closingPrice</th>\n",
       "    </tr>\n",
       "  </thead>\n",
       "  <tbody>\n",
       "    <tr>\n",
       "      <th>2014-05-01</th>\n",
       "      <td>531.35</td>\n",
       "    </tr>\n",
       "    <tr>\n",
       "      <th>2014-05-02</th>\n",
       "      <td>527.93</td>\n",
       "    </tr>\n",
       "    <tr>\n",
       "      <th>2014-05-05</th>\n",
       "      <td>527.81</td>\n",
       "    </tr>\n",
       "    <tr>\n",
       "      <th>2014-05-06</th>\n",
       "      <td>515.14</td>\n",
       "    </tr>\n",
       "    <tr>\n",
       "      <th>2014-05-07</th>\n",
       "      <td>509.96</td>\n",
       "    </tr>\n",
       "  </tbody>\n",
       "</table>\n",
       "</div>"
      ],
      "text/plain": [
       "<div>\n",
       "<style>\n",
       "    .dataframe thead tr:only-child th {\n",
       "        text-align: right;\n",
       "    }\n",
       "\n",
       "    .dataframe thead th {\n",
       "        text-align: left;\n",
       "    }\n",
       "\n",
       "    .dataframe tbody tr th {\n",
       "        vertical-align: top;\n",
       "    }\n",
       "</style>\n",
       "<table border=\"1\" class=\"dataframe\">\n",
       "  <thead>\n",
       "    <tr style=\"text-align: right;\">\n",
       "      <th></th>\n",
       "      <th>closingPrice</th>\n",
       "    </tr>\n",
       "  </thead>\n",
       "  <tbody>\n",
       "    <tr>\n",
       "      <th>2014-05-01</th>\n",
       "      <td>531.35</td>\n",
       "    </tr>\n",
       "    <tr>\n",
       "      <th>2014-05-02</th>\n",
       "      <td>527.93</td>\n",
       "    </tr>\n",
       "    <tr>\n",
       "      <th>2014-05-05</th>\n",
       "      <td>527.81</td>\n",
       "    </tr>\n",
       "    <tr>\n",
       "      <th>2014-05-06</th>\n",
       "      <td>515.14</td>\n",
       "    </tr>\n",
       "    <tr>\n",
       "      <th>2014-05-07</th>\n",
       "      <td>509.96</td>\n",
       "    </tr>\n",
       "  </tbody>\n",
       "</table>\n",
       "</div>"
      ]
     },
     "execution_count": 7,
     "metadata": {},
     "output_type": "execute_result"
    }
   ],
   "source": [
    "googClosingPrices"
   ]
  },
  {
   "cell_type": "code",
   "execution_count": 22,
   "metadata": {
    "collapsed": true
   },
   "outputs": [],
   "source": [
    "import datetime\n",
    "import pandas_datareader.data as web\n",
    "\n",
    "goog = web.get_data_google(\"GOOG\", start=datetime.datetime(2014, 5, 1), end=datetime.datetime(2014, 5, 7))"
   ]
  },
  {
   "cell_type": "code",
   "execution_count": 23,
   "metadata": {},
   "outputs": [
    {
     "data": {
      "text/html": [
       "<div>\n",
       "<style>\n",
       "    .dataframe thead tr:only-child th {\n",
       "        text-align: right;\n",
       "    }\n",
       "\n",
       "    .dataframe thead th {\n",
       "        text-align: left;\n",
       "    }\n",
       "\n",
       "    .dataframe tbody tr th {\n",
       "        vertical-align: top;\n",
       "    }\n",
       "</style>\n",
       "<table border=\"1\" class=\"dataframe\">\n",
       "  <thead>\n",
       "    <tr style=\"text-align: right;\">\n",
       "      <th></th>\n",
       "      <th>Open</th>\n",
       "      <th>High</th>\n",
       "      <th>Low</th>\n",
       "      <th>Close</th>\n",
       "      <th>Volume</th>\n",
       "    </tr>\n",
       "    <tr>\n",
       "      <th>Date</th>\n",
       "      <th></th>\n",
       "      <th></th>\n",
       "      <th></th>\n",
       "      <th></th>\n",
       "      <th></th>\n",
       "    </tr>\n",
       "  </thead>\n",
       "  <tbody>\n",
       "    <tr>\n",
       "      <th>2014-05-01</th>\n",
       "      <td>527.11</td>\n",
       "      <td>532.93</td>\n",
       "      <td>523.88</td>\n",
       "      <td>531.35</td>\n",
       "      <td>1900432</td>\n",
       "    </tr>\n",
       "    <tr>\n",
       "      <th>2014-05-02</th>\n",
       "      <td>533.76</td>\n",
       "      <td>534.00</td>\n",
       "      <td>525.61</td>\n",
       "      <td>527.93</td>\n",
       "      <td>1685042</td>\n",
       "    </tr>\n",
       "    <tr>\n",
       "      <th>2014-05-05</th>\n",
       "      <td>524.82</td>\n",
       "      <td>528.90</td>\n",
       "      <td>521.32</td>\n",
       "      <td>527.81</td>\n",
       "      <td>1021408</td>\n",
       "    </tr>\n",
       "    <tr>\n",
       "      <th>2014-05-06</th>\n",
       "      <td>525.23</td>\n",
       "      <td>526.81</td>\n",
       "      <td>515.06</td>\n",
       "      <td>515.14</td>\n",
       "      <td>1684381</td>\n",
       "    </tr>\n",
       "    <tr>\n",
       "      <th>2014-05-07</th>\n",
       "      <td>515.79</td>\n",
       "      <td>516.68</td>\n",
       "      <td>503.30</td>\n",
       "      <td>509.96</td>\n",
       "      <td>3216077</td>\n",
       "    </tr>\n",
       "  </tbody>\n",
       "</table>\n",
       "</div>"
      ],
      "text/plain": [
       "<div>\n",
       "<style>\n",
       "    .dataframe thead tr:only-child th {\n",
       "        text-align: right;\n",
       "    }\n",
       "\n",
       "    .dataframe thead th {\n",
       "        text-align: left;\n",
       "    }\n",
       "\n",
       "    .dataframe tbody tr th {\n",
       "        vertical-align: top;\n",
       "    }\n",
       "</style>\n",
       "<table border=\"1\" class=\"dataframe\">\n",
       "  <thead>\n",
       "    <tr style=\"text-align: right;\">\n",
       "      <th></th>\n",
       "      <th>Open</th>\n",
       "      <th>High</th>\n",
       "      <th>Low</th>\n",
       "      <th>Close</th>\n",
       "      <th>Volume</th>\n",
       "    </tr>\n",
       "    <tr>\n",
       "      <th>Date</th>\n",
       "      <th></th>\n",
       "      <th></th>\n",
       "      <th></th>\n",
       "      <th></th>\n",
       "      <th></th>\n",
       "    </tr>\n",
       "  </thead>\n",
       "  <tbody>\n",
       "    <tr>\n",
       "      <th>2014-05-01</th>\n",
       "      <td>527.11</td>\n",
       "      <td>532.93</td>\n",
       "      <td>523.88</td>\n",
       "      <td>531.35</td>\n",
       "      <td>1900432</td>\n",
       "    </tr>\n",
       "    <tr>\n",
       "      <th>2014-05-02</th>\n",
       "      <td>533.76</td>\n",
       "      <td>534.00</td>\n",
       "      <td>525.61</td>\n",
       "      <td>527.93</td>\n",
       "      <td>1685042</td>\n",
       "    </tr>\n",
       "    <tr>\n",
       "      <th>2014-05-05</th>\n",
       "      <td>524.82</td>\n",
       "      <td>528.90</td>\n",
       "      <td>521.32</td>\n",
       "      <td>527.81</td>\n",
       "      <td>1021408</td>\n",
       "    </tr>\n",
       "    <tr>\n",
       "      <th>2014-05-06</th>\n",
       "      <td>525.23</td>\n",
       "      <td>526.81</td>\n",
       "      <td>515.06</td>\n",
       "      <td>515.14</td>\n",
       "      <td>1684381</td>\n",
       "    </tr>\n",
       "    <tr>\n",
       "      <th>2014-05-07</th>\n",
       "      <td>515.79</td>\n",
       "      <td>516.68</td>\n",
       "      <td>503.30</td>\n",
       "      <td>509.96</td>\n",
       "      <td>3216077</td>\n",
       "    </tr>\n",
       "  </tbody>\n",
       "</table>\n",
       "</div>"
      ]
     },
     "execution_count": 23,
     "metadata": {},
     "output_type": "execute_result"
    }
   ],
   "source": [
    "goog"
   ]
  },
  {
   "cell_type": "code",
   "execution_count": 24,
   "metadata": {},
   "outputs": [],
   "source": [
    "googFinalPrices=pd.DataFrame(goog['Close'], index=tradeDates)"
   ]
  },
  {
   "cell_type": "code",
   "execution_count": 26,
   "metadata": {},
   "outputs": [
    {
     "data": {
      "text/html": [
       "<div>\n",
       "<style>\n",
       "    .dataframe thead tr:only-child th {\n",
       "        text-align: right;\n",
       "    }\n",
       "\n",
       "    .dataframe thead th {\n",
       "        text-align: left;\n",
       "    }\n",
       "\n",
       "    .dataframe tbody tr th {\n",
       "        vertical-align: top;\n",
       "    }\n",
       "</style>\n",
       "<table border=\"1\" class=\"dataframe\">\n",
       "  <thead>\n",
       "    <tr style=\"text-align: right;\">\n",
       "      <th></th>\n",
       "      <th>Close</th>\n",
       "    </tr>\n",
       "  </thead>\n",
       "  <tbody>\n",
       "    <tr>\n",
       "      <th>2014-05-01</th>\n",
       "      <td>531.35</td>\n",
       "    </tr>\n",
       "    <tr>\n",
       "      <th>2014-05-02</th>\n",
       "      <td>527.93</td>\n",
       "    </tr>\n",
       "    <tr>\n",
       "      <th>2014-05-05</th>\n",
       "      <td>527.81</td>\n",
       "    </tr>\n",
       "    <tr>\n",
       "      <th>2014-05-06</th>\n",
       "      <td>515.14</td>\n",
       "    </tr>\n",
       "    <tr>\n",
       "      <th>2014-05-07</th>\n",
       "      <td>509.96</td>\n",
       "    </tr>\n",
       "  </tbody>\n",
       "</table>\n",
       "</div>"
      ],
      "text/plain": [
       "<div>\n",
       "<style>\n",
       "    .dataframe thead tr:only-child th {\n",
       "        text-align: right;\n",
       "    }\n",
       "\n",
       "    .dataframe thead th {\n",
       "        text-align: left;\n",
       "    }\n",
       "\n",
       "    .dataframe tbody tr th {\n",
       "        vertical-align: top;\n",
       "    }\n",
       "</style>\n",
       "<table border=\"1\" class=\"dataframe\">\n",
       "  <thead>\n",
       "    <tr style=\"text-align: right;\">\n",
       "      <th></th>\n",
       "      <th>Close</th>\n",
       "    </tr>\n",
       "  </thead>\n",
       "  <tbody>\n",
       "    <tr>\n",
       "      <th>2014-05-01</th>\n",
       "      <td>531.35</td>\n",
       "    </tr>\n",
       "    <tr>\n",
       "      <th>2014-05-02</th>\n",
       "      <td>527.93</td>\n",
       "    </tr>\n",
       "    <tr>\n",
       "      <th>2014-05-05</th>\n",
       "      <td>527.81</td>\n",
       "    </tr>\n",
       "    <tr>\n",
       "      <th>2014-05-06</th>\n",
       "      <td>515.14</td>\n",
       "    </tr>\n",
       "    <tr>\n",
       "      <th>2014-05-07</th>\n",
       "      <td>509.96</td>\n",
       "    </tr>\n",
       "  </tbody>\n",
       "</table>\n",
       "</div>"
      ]
     },
     "execution_count": 26,
     "metadata": {},
     "output_type": "execute_result"
    }
   ],
   "source": [
    "googFinalPrices"
   ]
  },
  {
   "cell_type": "code",
   "execution_count": 87,
   "metadata": {},
   "outputs": [
    {
     "data": {
      "text/html": [
       "<div style=\"max-height:1000px;max-width:1500px;overflow:auto;\">\n",
       "<table border=\"1\" class=\"dataframe\">\n",
       "  <thead>\n",
       "    <tr style=\"text-align: right;\">\n",
       "      <th></th>\n",
       "      <th>closingPrice</th>\n",
       "    </tr>\n",
       "  </thead>\n",
       "  <tbody>\n",
       "    <tr>\n",
       "      <th>2014-05-01</th>\n",
       "      <td> 531.35</td>\n",
       "    </tr>\n",
       "    <tr>\n",
       "      <th>2014-05-02</th>\n",
       "      <td> 527.93</td>\n",
       "    </tr>\n",
       "    <tr>\n",
       "      <th>2014-05-03</th>\n",
       "      <td>    NaN</td>\n",
       "    </tr>\n",
       "    <tr>\n",
       "      <th>2014-05-04</th>\n",
       "      <td>    NaN</td>\n",
       "    </tr>\n",
       "    <tr>\n",
       "      <th>2014-05-05</th>\n",
       "      <td> 527.81</td>\n",
       "    </tr>\n",
       "    <tr>\n",
       "      <th>2014-05-06</th>\n",
       "      <td> 515.14</td>\n",
       "    </tr>\n",
       "    <tr>\n",
       "      <th>2014-05-07</th>\n",
       "      <td> 509.96</td>\n",
       "    </tr>\n",
       "  </tbody>\n",
       "</table>\n",
       "</div>"
      ],
      "text/plain": [
       "            closingPrice\n",
       "2014-05-01        531.35\n",
       "2014-05-02        527.93\n",
       "2014-05-03           NaN\n",
       "2014-05-04           NaN\n",
       "2014-05-05        527.81\n",
       "2014-05-06        515.14\n",
       "2014-05-07        509.96"
      ]
     },
     "execution_count": 87,
     "metadata": {},
     "output_type": "execute_result"
    }
   ],
   "source": [
    "googClosingPricesCDays=googClosingPrices.asfreq('D')\n",
    "googClosingPricesCDays"
   ]
  },
  {
   "cell_type": "code",
   "execution_count": 88,
   "metadata": {},
   "outputs": [
    {
     "data": {
      "text/html": [
       "<div style=\"max-height:1000px;max-width:1500px;overflow:auto;\">\n",
       "<table border=\"1\" class=\"dataframe\">\n",
       "  <thead>\n",
       "    <tr style=\"text-align: right;\">\n",
       "      <th></th>\n",
       "      <th>closingPrice</th>\n",
       "    </tr>\n",
       "  </thead>\n",
       "  <tbody>\n",
       "    <tr>\n",
       "      <th>2014-05-01</th>\n",
       "      <td> False</td>\n",
       "    </tr>\n",
       "    <tr>\n",
       "      <th>2014-05-02</th>\n",
       "      <td> False</td>\n",
       "    </tr>\n",
       "    <tr>\n",
       "      <th>2014-05-03</th>\n",
       "      <td>  True</td>\n",
       "    </tr>\n",
       "    <tr>\n",
       "      <th>2014-05-04</th>\n",
       "      <td>  True</td>\n",
       "    </tr>\n",
       "    <tr>\n",
       "      <th>2014-05-05</th>\n",
       "      <td> False</td>\n",
       "    </tr>\n",
       "    <tr>\n",
       "      <th>2014-05-06</th>\n",
       "      <td> False</td>\n",
       "    </tr>\n",
       "    <tr>\n",
       "      <th>2014-05-07</th>\n",
       "      <td> False</td>\n",
       "    </tr>\n",
       "  </tbody>\n",
       "</table>\n",
       "</div>"
      ],
      "text/plain": [
       "           closingPrice\n",
       "2014-05-01        False\n",
       "2014-05-02        False\n",
       "2014-05-03         True\n",
       "2014-05-04         True\n",
       "2014-05-05        False\n",
       "2014-05-06        False\n",
       "2014-05-07        False"
      ]
     },
     "execution_count": 88,
     "metadata": {},
     "output_type": "execute_result"
    }
   ],
   "source": [
    "googClosingPricesCDays.isnull()"
   ]
  },
  {
   "cell_type": "code",
   "execution_count": 89,
   "metadata": {},
   "outputs": [
    {
     "data": {
      "text/html": [
       "<div style=\"max-height:1000px;max-width:1500px;overflow:auto;\">\n",
       "<table border=\"1\" class=\"dataframe\">\n",
       "  <thead>\n",
       "    <tr style=\"text-align: right;\">\n",
       "      <th></th>\n",
       "      <th>closingPrice</th>\n",
       "    </tr>\n",
       "  </thead>\n",
       "  <tbody>\n",
       "    <tr>\n",
       "      <th>2014-05-01</th>\n",
       "      <td>  True</td>\n",
       "    </tr>\n",
       "    <tr>\n",
       "      <th>2014-05-02</th>\n",
       "      <td>  True</td>\n",
       "    </tr>\n",
       "    <tr>\n",
       "      <th>2014-05-03</th>\n",
       "      <td> False</td>\n",
       "    </tr>\n",
       "    <tr>\n",
       "      <th>2014-05-04</th>\n",
       "      <td> False</td>\n",
       "    </tr>\n",
       "    <tr>\n",
       "      <th>2014-05-05</th>\n",
       "      <td>  True</td>\n",
       "    </tr>\n",
       "    <tr>\n",
       "      <th>2014-05-06</th>\n",
       "      <td>  True</td>\n",
       "    </tr>\n",
       "    <tr>\n",
       "      <th>2014-05-07</th>\n",
       "      <td>  True</td>\n",
       "    </tr>\n",
       "  </tbody>\n",
       "</table>\n",
       "</div>"
      ],
      "text/plain": [
       "           closingPrice\n",
       "2014-05-01         True\n",
       "2014-05-02         True\n",
       "2014-05-03        False\n",
       "2014-05-04        False\n",
       "2014-05-05         True\n",
       "2014-05-06         True\n",
       "2014-05-07         True"
      ]
     },
     "execution_count": 89,
     "metadata": {},
     "output_type": "execute_result"
    }
   ],
   "source": [
    "googClosingPricesCDays.notnull()"
   ]
  },
  {
   "cell_type": "code",
   "execution_count": 94,
   "metadata": {},
   "outputs": [
    {
     "data": {
      "text/plain": [
       "pandas.core.series.Series"
      ]
     },
     "execution_count": 94,
     "metadata": {},
     "output_type": "execute_result"
    }
   ],
   "source": [
    "type(tradeDates)"
   ]
  },
  {
   "cell_type": "code",
   "execution_count": 95,
   "metadata": {},
   "outputs": [],
   "source": [
    "tDates=tradeDates.copy()\n",
    "tDates[1]=np.NaN\n",
    "tDates[4]=np.NaN"
   ]
  },
  {
   "cell_type": "code",
   "execution_count": 92,
   "metadata": {},
   "outputs": [],
   "source": [
    ""
   ]
  },
  {
   "cell_type": "code",
   "execution_count": 96,
   "metadata": {},
   "outputs": [
    {
     "data": {
      "text/plain": [
       "0   2014-05-01\n",
       "1          NaT\n",
       "2   2014-05-05\n",
       "3   2014-05-06\n",
       "4          NaT\n",
       "dtype: datetime64[ns]"
      ]
     },
     "execution_count": 96,
     "metadata": {},
     "output_type": "execute_result"
    }
   ],
   "source": [
    "tDates"
   ]
  },
  {
   "cell_type": "code",
   "execution_count": 98,
   "metadata": {
    "collapsed": true
   },
   "outputs": [],
   "source": [
    "FBVolume=[82.34,54.11,45.99,55.86,78.5]\n",
    "TWTRVolume=[15.74,12.71,10.39,134.62,68.84]"
   ]
  },
  {
   "cell_type": "code",
   "execution_count": 100,
   "metadata": {},
   "outputs": [
    {
     "data": {
      "text/html": [
       "<div style=\"max-height:1000px;max-width:1500px;overflow:auto;\">\n",
       "<table border=\"1\" class=\"dataframe\">\n",
       "  <thead>\n",
       "    <tr style=\"text-align: right;\">\n",
       "      <th></th>\n",
       "      <th>FB</th>\n",
       "      <th>TWTR</th>\n",
       "      <th>TradeDate</th>\n",
       "    </tr>\n",
       "  </thead>\n",
       "  <tbody>\n",
       "    <tr>\n",
       "      <th>0</th>\n",
       "      <td> 82.34</td>\n",
       "      <td>  15.74</td>\n",
       "      <td>2014-05-01</td>\n",
       "    </tr>\n",
       "    <tr>\n",
       "      <th>1</th>\n",
       "      <td> 54.11</td>\n",
       "      <td>  12.71</td>\n",
       "      <td>2014-05-02</td>\n",
       "    </tr>\n",
       "    <tr>\n",
       "      <th>2</th>\n",
       "      <td> 45.99</td>\n",
       "      <td>  10.39</td>\n",
       "      <td>2014-05-05</td>\n",
       "    </tr>\n",
       "    <tr>\n",
       "      <th>3</th>\n",
       "      <td> 55.86</td>\n",
       "      <td> 134.62</td>\n",
       "      <td>2014-05-06</td>\n",
       "    </tr>\n",
       "    <tr>\n",
       "      <th>4</th>\n",
       "      <td> 78.50</td>\n",
       "      <td>  68.84</td>\n",
       "      <td>2014-05-07</td>\n",
       "    </tr>\n",
       "  </tbody>\n",
       "</table>\n",
       "</div>"
      ],
      "text/plain": [
       "      FB    TWTR  TradeDate\n",
       "0  82.34   15.74 2014-05-01\n",
       "1  54.11   12.71 2014-05-02\n",
       "2  45.99   10.39 2014-05-05\n",
       "3  55.86  134.62 2014-05-06\n",
       "4  78.50   68.84 2014-05-07"
      ]
     },
     "execution_count": 100,
     "metadata": {},
     "output_type": "execute_result"
    }
   ],
   "source": [
    "socialTradingVolume=pd.concat([pd.Series(FBVolume),\n",
    "                               pd.Series(TWTRVolume),\n",
    "                               tradeDates], axis=1,\n",
    "                               keys=['FB','TWTR','TradeDate'])\n",
    "socialTradingVolume"
   ]
  },
  {
   "cell_type": "code",
   "execution_count": 101,
   "metadata": {},
   "outputs": [
    {
     "data": {
      "text/html": [
       "<div style=\"max-height:1000px;max-width:1500px;overflow:auto;\">\n",
       "<table border=\"1\" class=\"dataframe\">\n",
       "  <thead>\n",
       "    <tr style=\"text-align: right;\">\n",
       "      <th></th>\n",
       "      <th>FB</th>\n",
       "      <th>TWTR</th>\n",
       "    </tr>\n",
       "    <tr>\n",
       "      <th>TradeDate</th>\n",
       "      <th></th>\n",
       "      <th></th>\n",
       "    </tr>\n",
       "  </thead>\n",
       "  <tbody>\n",
       "    <tr>\n",
       "      <th>2014-05-01</th>\n",
       "      <td> 82.34</td>\n",
       "      <td>  15.74</td>\n",
       "    </tr>\n",
       "    <tr>\n",
       "      <th>2014-05-02</th>\n",
       "      <td> 54.11</td>\n",
       "      <td>  12.71</td>\n",
       "    </tr>\n",
       "    <tr>\n",
       "      <th>2014-05-05</th>\n",
       "      <td> 45.99</td>\n",
       "      <td>  10.39</td>\n",
       "    </tr>\n",
       "    <tr>\n",
       "      <th>2014-05-06</th>\n",
       "      <td> 55.86</td>\n",
       "      <td> 134.62</td>\n",
       "    </tr>\n",
       "    <tr>\n",
       "      <th>2014-05-07</th>\n",
       "      <td> 78.50</td>\n",
       "      <td>  68.84</td>\n",
       "    </tr>\n",
       "  </tbody>\n",
       "</table>\n",
       "</div>"
      ],
      "text/plain": [
       "               FB    TWTR\n",
       "TradeDate                \n",
       "2014-05-01  82.34   15.74\n",
       "2014-05-02  54.11   12.71\n",
       "2014-05-05  45.99   10.39\n",
       "2014-05-06  55.86  134.62\n",
       "2014-05-07  78.50   68.84"
      ]
     },
     "execution_count": 101,
     "metadata": {},
     "output_type": "execute_result"
    }
   ],
   "source": [
    "socialTradingVolTS=socialTradingVolume.set_index('TradeDate')\n",
    "socialTradingVolTS"
   ]
  },
  {
   "cell_type": "code",
   "execution_count": 103,
   "metadata": {},
   "outputs": [
    {
     "data": {
      "text/html": [
       "<div style=\"max-height:1000px;max-width:1500px;overflow:auto;\">\n",
       "<table border=\"1\" class=\"dataframe\">\n",
       "  <thead>\n",
       "    <tr style=\"text-align: right;\">\n",
       "      <th></th>\n",
       "      <th>FB</th>\n",
       "      <th>TWTR</th>\n",
       "    </tr>\n",
       "  </thead>\n",
       "  <tbody>\n",
       "    <tr>\n",
       "      <th>2014-05-01</th>\n",
       "      <td> 82.34</td>\n",
       "      <td>  15.74</td>\n",
       "    </tr>\n",
       "    <tr>\n",
       "      <th>2014-05-02</th>\n",
       "      <td> 54.11</td>\n",
       "      <td>  12.71</td>\n",
       "    </tr>\n",
       "    <tr>\n",
       "      <th>2014-05-03</th>\n",
       "      <td>   NaN</td>\n",
       "      <td>    NaN</td>\n",
       "    </tr>\n",
       "    <tr>\n",
       "      <th>2014-05-04</th>\n",
       "      <td>   NaN</td>\n",
       "      <td>    NaN</td>\n",
       "    </tr>\n",
       "    <tr>\n",
       "      <th>2014-05-05</th>\n",
       "      <td> 45.99</td>\n",
       "      <td>  10.39</td>\n",
       "    </tr>\n",
       "    <tr>\n",
       "      <th>2014-05-06</th>\n",
       "      <td> 55.86</td>\n",
       "      <td> 134.62</td>\n",
       "    </tr>\n",
       "    <tr>\n",
       "      <th>2014-05-07</th>\n",
       "      <td> 78.50</td>\n",
       "      <td>  68.84</td>\n",
       "    </tr>\n",
       "  </tbody>\n",
       "</table>\n",
       "</div>"
      ],
      "text/plain": [
       "               FB    TWTR\n",
       "2014-05-01  82.34   15.74\n",
       "2014-05-02  54.11   12.71\n",
       "2014-05-03    NaN     NaN\n",
       "2014-05-04    NaN     NaN\n",
       "2014-05-05  45.99   10.39\n",
       "2014-05-06  55.86  134.62\n",
       "2014-05-07  78.50   68.84"
      ]
     },
     "execution_count": 103,
     "metadata": {},
     "output_type": "execute_result"
    }
   ],
   "source": [
    "socialTradingVolTSCal=socialTradingVolTS.asfreq('D')\n",
    "socialTradingVolTSCal"
   ]
  },
  {
   "cell_type": "code",
   "execution_count": 104,
   "metadata": {},
   "outputs": [
    {
     "data": {
      "text/plain": [
       "2014-05-01     98.08\n",
       "2014-05-02     66.82\n",
       "2014-05-03       NaN\n",
       "2014-05-04       NaN\n",
       "2014-05-05     56.38\n",
       "2014-05-06    190.48\n",
       "2014-05-07    147.34\n",
       "Freq: D, dtype: float64"
      ]
     },
     "execution_count": 104,
     "metadata": {},
     "output_type": "execute_result"
    }
   ],
   "source": [
    "socialTradingVolTSCal['FB']+socialTradingVolTSCal['TWTR']"
   ]
  },
  {
   "cell_type": "code",
   "execution_count": 105,
   "metadata": {},
   "outputs": [
    {
     "data": {
      "text/plain": [
       "0     4.0\n",
       "1     NaN\n",
       "2     7.9\n",
       "3    11.6\n",
       "dtype: float64"
      ]
     },
     "execution_count": 105,
     "metadata": {},
     "output_type": "execute_result"
    }
   ],
   "source": [
    "pd.Series([1.0,np.NaN,5.9,6])+pd.Series([3,5,2,5.6])"
   ]
  },
  {
   "cell_type": "code",
   "execution_count": 106,
   "metadata": {},
   "outputs": [
    {
     "data": {
      "text/plain": [
       "0    0.333333\n",
       "1         NaN\n",
       "2    2.750000\n",
       "3    1.071429\n",
       "dtype: float64"
      ]
     },
     "execution_count": 106,
     "metadata": {},
     "output_type": "execute_result"
    }
   ],
   "source": [
    "pd.Series([1.0,25.0,5.5,6])/pd.Series([3,np.NaN,2,5.6])"
   ]
  },
  {
   "cell_type": "code",
   "execution_count": 107,
   "metadata": {},
   "outputs": [
    {
     "data": {
      "text/plain": [
       "nan"
      ]
     },
     "execution_count": 107,
     "metadata": {},
     "output_type": "execute_result"
    }
   ],
   "source": [
    "np.mean([1.0,np.NaN,5.9,6])"
   ]
  },
  {
   "cell_type": "code",
   "execution_count": 108,
   "metadata": {},
   "outputs": [
    {
     "data": {
      "text/plain": [
       "nan"
      ]
     },
     "execution_count": 108,
     "metadata": {},
     "output_type": "execute_result"
    }
   ],
   "source": [
    "np.sum([1.0,np.NaN,5.9,6])"
   ]
  },
  {
   "cell_type": "code",
   "execution_count": 109,
   "metadata": {},
   "outputs": [
    {
     "data": {
      "text/plain": [
       "12.9"
      ]
     },
     "execution_count": 109,
     "metadata": {},
     "output_type": "execute_result"
    }
   ],
   "source": [
    "pd.Series([1.0,np.NaN,5.9,6]).sum()"
   ]
  },
  {
   "cell_type": "code",
   "execution_count": 110,
   "metadata": {},
   "outputs": [
    {
     "data": {
      "text/plain": [
       "4.2999999999999998"
      ]
     },
     "execution_count": 110,
     "metadata": {},
     "output_type": "execute_result"
    }
   ],
   "source": [
    "pd.Series([1.0,np.NaN,5.9,6]).mean()"
   ]
  },
  {
   "cell_type": "code",
   "execution_count": 111,
   "metadata": {},
   "outputs": [
    {
     "data": {
      "text/plain": [
       "4.2999999999999998"
      ]
     },
     "execution_count": 111,
     "metadata": {},
     "output_type": "execute_result"
    }
   ],
   "source": [
    "np.nanmean([1.0,np.NaN,5.9,6])"
   ]
  },
  {
   "cell_type": "code",
   "execution_count": 112,
   "metadata": {},
   "outputs": [
    {
     "data": {
      "text/plain": [
       "12.9"
      ]
     },
     "execution_count": 112,
     "metadata": {},
     "output_type": "execute_result"
    }
   ],
   "source": [
    "np.nansum([1.0,np.NaN,5.9,6])"
   ]
  },
  {
   "cell_type": "code",
   "execution_count": 113,
   "metadata": {},
   "outputs": [
    {
     "data": {
      "text/html": [
       "<div style=\"max-height:1000px;max-width:1500px;overflow:auto;\">\n",
       "<table border=\"1\" class=\"dataframe\">\n",
       "  <thead>\n",
       "    <tr style=\"text-align: right;\">\n",
       "      <th></th>\n",
       "      <th>FB</th>\n",
       "      <th>TWTR</th>\n",
       "    </tr>\n",
       "  </thead>\n",
       "  <tbody>\n",
       "    <tr>\n",
       "      <th>2014-05-01</th>\n",
       "      <td> 82.34</td>\n",
       "      <td>  15.74</td>\n",
       "    </tr>\n",
       "    <tr>\n",
       "      <th>2014-05-02</th>\n",
       "      <td> 54.11</td>\n",
       "      <td>  12.71</td>\n",
       "    </tr>\n",
       "    <tr>\n",
       "      <th>2014-05-03</th>\n",
       "      <td>   NaN</td>\n",
       "      <td>    NaN</td>\n",
       "    </tr>\n",
       "    <tr>\n",
       "      <th>2014-05-04</th>\n",
       "      <td>   NaN</td>\n",
       "      <td>    NaN</td>\n",
       "    </tr>\n",
       "    <tr>\n",
       "      <th>2014-05-05</th>\n",
       "      <td> 45.99</td>\n",
       "      <td>  10.39</td>\n",
       "    </tr>\n",
       "    <tr>\n",
       "      <th>2014-05-06</th>\n",
       "      <td> 55.86</td>\n",
       "      <td> 134.62</td>\n",
       "    </tr>\n",
       "    <tr>\n",
       "      <th>2014-05-07</th>\n",
       "      <td> 78.50</td>\n",
       "      <td>  68.84</td>\n",
       "    </tr>\n",
       "  </tbody>\n",
       "</table>\n",
       "</div>"
      ],
      "text/plain": [
       "               FB    TWTR\n",
       "2014-05-01  82.34   15.74\n",
       "2014-05-02  54.11   12.71\n",
       "2014-05-03    NaN     NaN\n",
       "2014-05-04    NaN     NaN\n",
       "2014-05-05  45.99   10.39\n",
       "2014-05-06  55.86  134.62\n",
       "2014-05-07  78.50   68.84"
      ]
     },
     "execution_count": 113,
     "metadata": {},
     "output_type": "execute_result"
    }
   ],
   "source": [
    "socialTradingVolTSCal"
   ]
  },
  {
   "cell_type": "code",
   "execution_count": 114,
   "metadata": {},
   "outputs": [
    {
     "data": {
      "text/html": [
       "<div style=\"max-height:1000px;max-width:1500px;overflow:auto;\">\n",
       "<table border=\"1\" class=\"dataframe\">\n",
       "  <thead>\n",
       "    <tr style=\"text-align: right;\">\n",
       "      <th></th>\n",
       "      <th>FB</th>\n",
       "      <th>TWTR</th>\n",
       "    </tr>\n",
       "  </thead>\n",
       "  <tbody>\n",
       "    <tr>\n",
       "      <th>2014-05-01</th>\n",
       "      <td>  82.34</td>\n",
       "      <td>  15.74</td>\n",
       "    </tr>\n",
       "    <tr>\n",
       "      <th>2014-05-02</th>\n",
       "      <td>  54.11</td>\n",
       "      <td>  12.71</td>\n",
       "    </tr>\n",
       "    <tr>\n",
       "      <th>2014-05-03</th>\n",
       "      <td> 100.00</td>\n",
       "      <td> 100.00</td>\n",
       "    </tr>\n",
       "    <tr>\n",
       "      <th>2014-05-04</th>\n",
       "      <td> 100.00</td>\n",
       "      <td> 100.00</td>\n",
       "    </tr>\n",
       "    <tr>\n",
       "      <th>2014-05-05</th>\n",
       "      <td>  45.99</td>\n",
       "      <td>  10.39</td>\n",
       "    </tr>\n",
       "    <tr>\n",
       "      <th>2014-05-06</th>\n",
       "      <td>  55.86</td>\n",
       "      <td> 134.62</td>\n",
       "    </tr>\n",
       "    <tr>\n",
       "      <th>2014-05-07</th>\n",
       "      <td>  78.50</td>\n",
       "      <td>  68.84</td>\n",
       "    </tr>\n",
       "  </tbody>\n",
       "</table>\n",
       "</div>"
      ],
      "text/plain": [
       "                FB    TWTR\n",
       "2014-05-01   82.34   15.74\n",
       "2014-05-02   54.11   12.71\n",
       "2014-05-03  100.00  100.00\n",
       "2014-05-04  100.00  100.00\n",
       "2014-05-05   45.99   10.39\n",
       "2014-05-06   55.86  134.62\n",
       "2014-05-07   78.50   68.84"
      ]
     },
     "execution_count": 114,
     "metadata": {},
     "output_type": "execute_result"
    }
   ],
   "source": [
    "socialTradingVolTSCal.fillna(100)"
   ]
  },
  {
   "cell_type": "code",
   "execution_count": null,
   "metadata": {
    "collapsed": true
   },
   "outputs": [],
   "source": [
    ""
   ]
  },
  {
   "cell_type": "code",
   "execution_count": 115,
   "metadata": {},
   "outputs": [
    {
     "data": {
      "text/html": [
       "<div style=\"max-height:1000px;max-width:1500px;overflow:auto;\">\n",
       "<table border=\"1\" class=\"dataframe\">\n",
       "  <thead>\n",
       "    <tr style=\"text-align: right;\">\n",
       "      <th></th>\n",
       "      <th>FB</th>\n",
       "      <th>TWTR</th>\n",
       "    </tr>\n",
       "  </thead>\n",
       "  <tbody>\n",
       "    <tr>\n",
       "      <th>2014-05-01</th>\n",
       "      <td> 82.34</td>\n",
       "      <td>  15.74</td>\n",
       "    </tr>\n",
       "    <tr>\n",
       "      <th>2014-05-02</th>\n",
       "      <td> 54.11</td>\n",
       "      <td>  12.71</td>\n",
       "    </tr>\n",
       "    <tr>\n",
       "      <th>2014-05-03</th>\n",
       "      <td> 54.11</td>\n",
       "      <td>  12.71</td>\n",
       "    </tr>\n",
       "    <tr>\n",
       "      <th>2014-05-04</th>\n",
       "      <td> 54.11</td>\n",
       "      <td>  12.71</td>\n",
       "    </tr>\n",
       "    <tr>\n",
       "      <th>2014-05-05</th>\n",
       "      <td> 45.99</td>\n",
       "      <td>  10.39</td>\n",
       "    </tr>\n",
       "    <tr>\n",
       "      <th>2014-05-06</th>\n",
       "      <td> 55.86</td>\n",
       "      <td> 134.62</td>\n",
       "    </tr>\n",
       "    <tr>\n",
       "      <th>2014-05-07</th>\n",
       "      <td> 78.50</td>\n",
       "      <td>  68.84</td>\n",
       "    </tr>\n",
       "  </tbody>\n",
       "</table>\n",
       "</div>"
      ],
      "text/plain": [
       "               FB    TWTR\n",
       "2014-05-01  82.34   15.74\n",
       "2014-05-02  54.11   12.71\n",
       "2014-05-03  54.11   12.71\n",
       "2014-05-04  54.11   12.71\n",
       "2014-05-05  45.99   10.39\n",
       "2014-05-06  55.86  134.62\n",
       "2014-05-07  78.50   68.84"
      ]
     },
     "execution_count": 115,
     "metadata": {},
     "output_type": "execute_result"
    }
   ],
   "source": [
    "socialTradingVolTSCal.fillna(method='ffill')"
   ]
  },
  {
   "cell_type": "code",
   "execution_count": 119,
   "metadata": {},
   "outputs": [
    {
     "data": {
      "text/html": [
       "<div style=\"max-height:1000px;max-width:1500px;overflow:auto;\">\n",
       "<table border=\"1\" class=\"dataframe\">\n",
       "  <thead>\n",
       "    <tr style=\"text-align: right;\">\n",
       "      <th></th>\n",
       "      <th>FB</th>\n",
       "      <th>TWTR</th>\n",
       "    </tr>\n",
       "  </thead>\n",
       "  <tbody>\n",
       "    <tr>\n",
       "      <th>2014-05-01</th>\n",
       "      <td> 82.34</td>\n",
       "      <td>  15.74</td>\n",
       "    </tr>\n",
       "    <tr>\n",
       "      <th>2014-05-02</th>\n",
       "      <td> 54.11</td>\n",
       "      <td>  12.71</td>\n",
       "    </tr>\n",
       "    <tr>\n",
       "      <th>2014-05-03</th>\n",
       "      <td> 54.11</td>\n",
       "      <td>  12.71</td>\n",
       "    </tr>\n",
       "    <tr>\n",
       "      <th>2014-05-04</th>\n",
       "      <td> 54.11</td>\n",
       "      <td>  12.71</td>\n",
       "    </tr>\n",
       "    <tr>\n",
       "      <th>2014-05-05</th>\n",
       "      <td> 45.99</td>\n",
       "      <td>  10.39</td>\n",
       "    </tr>\n",
       "    <tr>\n",
       "      <th>2014-05-06</th>\n",
       "      <td> 55.86</td>\n",
       "      <td> 134.62</td>\n",
       "    </tr>\n",
       "    <tr>\n",
       "      <th>2014-05-07</th>\n",
       "      <td> 78.50</td>\n",
       "      <td>  68.84</td>\n",
       "    </tr>\n",
       "  </tbody>\n",
       "</table>\n",
       "</div>"
      ],
      "text/plain": [
       "               FB    TWTR\n",
       "2014-05-01  82.34   15.74\n",
       "2014-05-02  54.11   12.71\n",
       "2014-05-03  54.11   12.71\n",
       "2014-05-04  54.11   12.71\n",
       "2014-05-05  45.99   10.39\n",
       "2014-05-06  55.86  134.62\n",
       "2014-05-07  78.50   68.84"
      ]
     },
     "execution_count": 119,
     "metadata": {},
     "output_type": "execute_result"
    }
   ],
   "source": [
    "socialTradingVolTSCal.fillna(method='pad')"
   ]
  },
  {
   "cell_type": "code",
   "execution_count": 117,
   "metadata": {},
   "outputs": [
    {
     "data": {
      "text/html": [
       "<div style=\"max-height:1000px;max-width:1500px;overflow:auto;\">\n",
       "<table border=\"1\" class=\"dataframe\">\n",
       "  <thead>\n",
       "    <tr style=\"text-align: right;\">\n",
       "      <th></th>\n",
       "      <th>FB</th>\n",
       "      <th>TWTR</th>\n",
       "    </tr>\n",
       "  </thead>\n",
       "  <tbody>\n",
       "    <tr>\n",
       "      <th>2014-05-01</th>\n",
       "      <td> 82.34</td>\n",
       "      <td>  15.74</td>\n",
       "    </tr>\n",
       "    <tr>\n",
       "      <th>2014-05-02</th>\n",
       "      <td> 54.11</td>\n",
       "      <td>  12.71</td>\n",
       "    </tr>\n",
       "    <tr>\n",
       "      <th>2014-05-03</th>\n",
       "      <td> 45.99</td>\n",
       "      <td>  10.39</td>\n",
       "    </tr>\n",
       "    <tr>\n",
       "      <th>2014-05-04</th>\n",
       "      <td> 45.99</td>\n",
       "      <td>  10.39</td>\n",
       "    </tr>\n",
       "    <tr>\n",
       "      <th>2014-05-05</th>\n",
       "      <td> 45.99</td>\n",
       "      <td>  10.39</td>\n",
       "    </tr>\n",
       "    <tr>\n",
       "      <th>2014-05-06</th>\n",
       "      <td> 55.86</td>\n",
       "      <td> 134.62</td>\n",
       "    </tr>\n",
       "    <tr>\n",
       "      <th>2014-05-07</th>\n",
       "      <td> 78.50</td>\n",
       "      <td>  68.84</td>\n",
       "    </tr>\n",
       "  </tbody>\n",
       "</table>\n",
       "</div>"
      ],
      "text/plain": [
       "               FB    TWTR\n",
       "2014-05-01  82.34   15.74\n",
       "2014-05-02  54.11   12.71\n",
       "2014-05-03  45.99   10.39\n",
       "2014-05-04  45.99   10.39\n",
       "2014-05-05  45.99   10.39\n",
       "2014-05-06  55.86  134.62\n",
       "2014-05-07  78.50   68.84"
      ]
     },
     "execution_count": 117,
     "metadata": {},
     "output_type": "execute_result"
    }
   ],
   "source": [
    "socialTradingVolTSCal.fillna(method='bfill')"
   ]
  },
  {
   "cell_type": "code",
   "execution_count": 118,
   "metadata": {},
   "outputs": [
    {
     "data": {
      "text/html": [
       "<div style=\"max-height:1000px;max-width:1500px;overflow:auto;\">\n",
       "<table border=\"1\" class=\"dataframe\">\n",
       "  <thead>\n",
       "    <tr style=\"text-align: right;\">\n",
       "      <th></th>\n",
       "      <th>FB</th>\n",
       "      <th>TWTR</th>\n",
       "    </tr>\n",
       "  </thead>\n",
       "  <tbody>\n",
       "    <tr>\n",
       "      <th>2014-05-01</th>\n",
       "      <td> 82.34</td>\n",
       "      <td>  15.74</td>\n",
       "    </tr>\n",
       "    <tr>\n",
       "      <th>2014-05-02</th>\n",
       "      <td> 54.11</td>\n",
       "      <td>  12.71</td>\n",
       "    </tr>\n",
       "    <tr>\n",
       "      <th>2014-05-05</th>\n",
       "      <td> 45.99</td>\n",
       "      <td>  10.39</td>\n",
       "    </tr>\n",
       "    <tr>\n",
       "      <th>2014-05-06</th>\n",
       "      <td> 55.86</td>\n",
       "      <td> 134.62</td>\n",
       "    </tr>\n",
       "    <tr>\n",
       "      <th>2014-05-07</th>\n",
       "      <td> 78.50</td>\n",
       "      <td>  68.84</td>\n",
       "    </tr>\n",
       "  </tbody>\n",
       "</table>\n",
       "</div>"
      ],
      "text/plain": [
       "               FB    TWTR\n",
       "2014-05-01  82.34   15.74\n",
       "2014-05-02  54.11   12.71\n",
       "2014-05-05  45.99   10.39\n",
       "2014-05-06  55.86  134.62\n",
       "2014-05-07  78.50   68.84"
      ]
     },
     "execution_count": 118,
     "metadata": {},
     "output_type": "execute_result"
    }
   ],
   "source": [
    "socialTradingVolTSCal.dropna()"
   ]
  },
  {
   "cell_type": "code",
   "execution_count": 120,
   "metadata": {},
   "outputs": [
    {
     "data": {
      "text/html": [
       "<div style=\"max-height:1000px;max-width:1500px;overflow:auto;\">\n",
       "<table border=\"1\" class=\"dataframe\">\n",
       "  <thead>\n",
       "    <tr style=\"text-align: right;\">\n",
       "      <th></th>\n",
       "      <th>FB</th>\n",
       "      <th>TWTR</th>\n",
       "    </tr>\n",
       "  </thead>\n",
       "  <tbody>\n",
       "    <tr>\n",
       "      <th>2014-05-01</th>\n",
       "      <td> 82.34</td>\n",
       "      <td>  15.74</td>\n",
       "    </tr>\n",
       "    <tr>\n",
       "      <th>2014-05-02</th>\n",
       "      <td> 54.11</td>\n",
       "      <td>  12.71</td>\n",
       "    </tr>\n",
       "    <tr>\n",
       "      <th>2014-05-05</th>\n",
       "      <td> 45.99</td>\n",
       "      <td>  10.39</td>\n",
       "    </tr>\n",
       "    <tr>\n",
       "      <th>2014-05-06</th>\n",
       "      <td> 55.86</td>\n",
       "      <td> 134.62</td>\n",
       "    </tr>\n",
       "    <tr>\n",
       "      <th>2014-05-07</th>\n",
       "      <td> 78.50</td>\n",
       "      <td>  68.84</td>\n",
       "    </tr>\n",
       "  </tbody>\n",
       "</table>\n",
       "</div>"
      ],
      "text/plain": [
       "               FB    TWTR\n",
       "2014-05-01  82.34   15.74\n",
       "2014-05-02  54.11   12.71\n",
       "2014-05-05  45.99   10.39\n",
       "2014-05-06  55.86  134.62\n",
       "2014-05-07  78.50   68.84"
      ]
     },
     "execution_count": 120,
     "metadata": {},
     "output_type": "execute_result"
    }
   ],
   "source": [
    "socialTradingVolTSCal.dropna()"
   ]
  },
  {
   "cell_type": "code",
   "execution_count": 121,
   "metadata": {},
   "outputs": [
    {
     "data": {
      "text/html": [
       "<div style=\"max-height:1000px;max-width:1500px;overflow:auto;\">\n",
       "<table border=\"1\" class=\"dataframe\">\n",
       "  <thead>\n",
       "    <tr style=\"text-align: right;\">\n",
       "      <th></th>\n",
       "      <th>FB</th>\n",
       "      <th>TWTR</th>\n",
       "    </tr>\n",
       "  </thead>\n",
       "  <tbody>\n",
       "    <tr>\n",
       "      <th>2014-05-01</th>\n",
       "      <td> 82.340</td>\n",
       "      <td>  15.740</td>\n",
       "    </tr>\n",
       "    <tr>\n",
       "      <th>2014-05-02</th>\n",
       "      <td> 54.110</td>\n",
       "      <td>  12.710</td>\n",
       "    </tr>\n",
       "    <tr>\n",
       "      <th>2014-05-03</th>\n",
       "      <td> 51.403</td>\n",
       "      <td>  11.937</td>\n",
       "    </tr>\n",
       "    <tr>\n",
       "      <th>2014-05-04</th>\n",
       "      <td> 48.697</td>\n",
       "      <td>  11.163</td>\n",
       "    </tr>\n",
       "    <tr>\n",
       "      <th>2014-05-05</th>\n",
       "      <td> 45.990</td>\n",
       "      <td>  10.390</td>\n",
       "    </tr>\n",
       "    <tr>\n",
       "      <th>2014-05-06</th>\n",
       "      <td> 55.860</td>\n",
       "      <td> 134.620</td>\n",
       "    </tr>\n",
       "    <tr>\n",
       "      <th>2014-05-07</th>\n",
       "      <td> 78.500</td>\n",
       "      <td>  68.840</td>\n",
       "    </tr>\n",
       "  </tbody>\n",
       "</table>\n",
       "</div>"
      ],
      "text/plain": [
       "                FB     TWTR\n",
       "2014-05-01  82.340   15.740\n",
       "2014-05-02  54.110   12.710\n",
       "2014-05-03  51.403   11.937\n",
       "2014-05-04  48.697   11.163\n",
       "2014-05-05  45.990   10.390\n",
       "2014-05-06  55.860  134.620\n",
       "2014-05-07  78.500   68.840"
      ]
     },
     "execution_count": 121,
     "metadata": {},
     "output_type": "execute_result"
    }
   ],
   "source": [
    "pd.set_option('display.precision',4)\n",
    "socialTradingVolTSCal.interpolate()"
   ]
  },
  {
   "cell_type": "code",
   "execution_count": 122,
   "metadata": {
    "collapsed": true
   },
   "outputs": [],
   "source": [
    "ibmData=pd.read_csv('./data/ibm-common-stock-closing-prices-1959_1960.csv')"
   ]
  },
  {
   "cell_type": "code",
   "execution_count": 123,
   "metadata": {},
   "outputs": [
    {
     "data": {
      "text/html": [
       "<div style=\"max-height:1000px;max-width:1500px;overflow:auto;\">\n",
       "<table border=\"1\" class=\"dataframe\">\n",
       "  <thead>\n",
       "    <tr style=\"text-align: right;\">\n",
       "      <th></th>\n",
       "      <th>TradeDate</th>\n",
       "      <th>closingPrice</th>\n",
       "    </tr>\n",
       "  </thead>\n",
       "  <tbody>\n",
       "    <tr>\n",
       "      <th>0</th>\n",
       "      <td> 1959-06-29</td>\n",
       "      <td> 445</td>\n",
       "    </tr>\n",
       "    <tr>\n",
       "      <th>1</th>\n",
       "      <td> 1959-06-30</td>\n",
       "      <td> 448</td>\n",
       "    </tr>\n",
       "    <tr>\n",
       "      <th>2</th>\n",
       "      <td> 1959-07-01</td>\n",
       "      <td> 450</td>\n",
       "    </tr>\n",
       "    <tr>\n",
       "      <th>3</th>\n",
       "      <td> 1959-07-02</td>\n",
       "      <td> 447</td>\n",
       "    </tr>\n",
       "    <tr>\n",
       "      <th>4</th>\n",
       "      <td> 1959-07-06</td>\n",
       "      <td> 451</td>\n",
       "    </tr>\n",
       "  </tbody>\n",
       "</table>\n",
       "</div>"
      ],
      "text/plain": [
       "    TradeDate  closingPrice\n",
       "0  1959-06-29           445\n",
       "1  1959-06-30           448\n",
       "2  1959-07-01           450\n",
       "3  1959-07-02           447\n",
       "4  1959-07-06           451"
      ]
     },
     "execution_count": 123,
     "metadata": {},
     "output_type": "execute_result"
    }
   ],
   "source": [
    "ibmData.head()"
   ]
  },
  {
   "cell_type": "code",
   "execution_count": 124,
   "metadata": {},
   "outputs": [
    {
     "data": {
      "text/plain": [
       "pandas.core.series.Series"
      ]
     },
     "execution_count": 124,
     "metadata": {},
     "output_type": "execute_result"
    }
   ],
   "source": [
    "type(ibmData['TradeDate'])"
   ]
  },
  {
   "cell_type": "code",
   "execution_count": 125,
   "metadata": {},
   "outputs": [
    {
     "data": {
      "text/plain": [
       "str"
      ]
     },
     "execution_count": 125,
     "metadata": {},
     "output_type": "execute_result"
    }
   ],
   "source": [
    "type(ibmData['TradeDate'][0])"
   ]
  },
  {
   "cell_type": "code",
   "execution_count": 126,
   "metadata": {},
   "outputs": [
    {
     "data": {
      "text/plain": [
       "pandas.tslib.Timestamp"
      ]
     },
     "execution_count": 126,
     "metadata": {},
     "output_type": "execute_result"
    }
   ],
   "source": [
    "ibmData['TradeDate']=pd.to_datetime(ibmData['TradeDate'])\n",
    "type(ibmData['TradeDate'][0])"
   ]
  },
  {
   "cell_type": "code",
   "execution_count": 127,
   "metadata": {},
   "outputs": [
    {
     "data": {
      "text/plain": [
       "TradeDate\n",
       "1959-06-29    445\n",
       "1959-06-30    448\n",
       "1959-07-01    450\n",
       "1959-07-02    447\n",
       "1959-07-06    451\n",
       "1959-07-07    453\n",
       "1959-07-08    454\n",
       "1959-07-09    454\n",
       "1959-07-10    459\n",
       "1959-07-13    440\n",
       "1959-07-14    446\n",
       "1959-07-15    443\n",
       "1959-07-16    443\n",
       "1959-07-17    440\n",
       "1959-07-20    439\n",
       "...\n",
       "1960-06-10    529\n",
       "1960-06-13    530\n",
       "1960-06-14    531\n",
       "1960-06-15    527\n",
       "1960-06-16    525\n",
       "1960-06-17    519\n",
       "1960-06-20    514\n",
       "1960-06-21    509\n",
       "1960-06-22    505\n",
       "1960-06-23    513\n",
       "1960-06-24    525\n",
       "1960-06-27    519\n",
       "1960-06-28    519\n",
       "1960-06-29    522\n",
       "1960-06-30    522\n",
       "Name: closingPrice, Length: 255"
      ]
     },
     "execution_count": 127,
     "metadata": {},
     "output_type": "execute_result"
    }
   ],
   "source": [
    "#Convert DataFrame to TimeSeries\n",
    "#Resampling creates NaN rows for weekend dates, hence use dropna\n",
    "ibmTS=ibmData.set_index('TradeDate').resample('D')['closingPrice'].dropna()\n",
    "ibmTS"
   ]
  },
  {
   "cell_type": "markdown",
   "metadata": {},
   "source": [
    "<h3>DateOffset and TimeDelta objects</h3>"
   ]
  },
  {
   "cell_type": "markdown",
   "metadata": {},
   "source": [
    "<h3>DateOffset</h3>"
   ]
  },
  {
   "cell_type": "code",
   "execution_count": 128,
   "metadata": {},
   "outputs": [
    {
     "data": {
      "text/plain": [
       "datetime.datetime(2014, 12, 25, 0, 0)"
      ]
     },
     "execution_count": 128,
     "metadata": {},
     "output_type": "execute_result"
    }
   ],
   "source": [
    "xmasDay=pd.datetime(2014,12,25)\n",
    "xmasDay"
   ]
  },
  {
   "cell_type": "code",
   "execution_count": 129,
   "metadata": {},
   "outputs": [
    {
     "data": {
      "text/plain": [
       "Timestamp('2014-12-26 00:00:00')"
      ]
     },
     "execution_count": 129,
     "metadata": {},
     "output_type": "execute_result"
    }
   ],
   "source": [
    "boxingDay=xmasDay+pd.DateOffset(days=1)\n",
    "boxingDay"
   ]
  },
  {
   "cell_type": "code",
   "execution_count": 131,
   "metadata": {},
   "outputs": [
    {
     "data": {
      "text/plain": [
       "datetime.datetime(2015, 4, 28, 3, 46, 16, 634425)"
      ]
     },
     "execution_count": 131,
     "metadata": {},
     "output_type": "execute_result"
    }
   ],
   "source": [
    "today=pd.datetime.now()\n",
    "today"
   ]
  },
  {
   "cell_type": "code",
   "execution_count": 132,
   "metadata": {},
   "outputs": [
    {
     "data": {
      "text/plain": [
       "Timestamp('2015-05-05 03:46:16.634425')"
      ]
     },
     "execution_count": 132,
     "metadata": {},
     "output_type": "execute_result"
    }
   ],
   "source": [
    "today+pd.DateOffset(weeks=1)"
   ]
  },
  {
   "cell_type": "code",
   "execution_count": 134,
   "metadata": {},
   "outputs": [
    {
     "data": {
      "text/plain": [
       "Timestamp('2020-04-28 03:46:16.634425')"
      ]
     },
     "execution_count": 134,
     "metadata": {},
     "output_type": "execute_result"
    }
   ],
   "source": [
    "today+2*pd.DateOffset(years=2, months=6)"
   ]
  },
  {
   "cell_type": "code",
   "execution_count": 135,
   "metadata": {
    "collapsed": true
   },
   "outputs": [],
   "source": [
    "lastDay=pd.datetime(2013,12,31)"
   ]
  },
  {
   "cell_type": "code",
   "execution_count": 136,
   "metadata": {},
   "outputs": [
    {
     "data": {
      "text/plain": [
       "Timestamp('2014-03-01 00:00:00')"
      ]
     },
     "execution_count": 136,
     "metadata": {},
     "output_type": "execute_result"
    }
   ],
   "source": [
    "from pandas.tseries.offsets import QuarterBegin\n",
    "dtoffset=QuarterBegin()\n",
    "lastDay+dtoffset"
   ]
  },
  {
   "cell_type": "code",
   "execution_count": 137,
   "metadata": {},
   "outputs": [
    {
     "data": {
      "text/plain": [
       "Timestamp('2014-03-01 00:00:00')"
      ]
     },
     "execution_count": 137,
     "metadata": {},
     "output_type": "execute_result"
    }
   ],
   "source": [
    "dtoffset.rollforward(lastDay)"
   ]
  },
  {
   "cell_type": "code",
   "execution_count": 138,
   "metadata": {
    "collapsed": true
   },
   "outputs": [],
   "source": [
    "firstQuarterLastDay=pd.datetime(2015,3,31)"
   ]
  },
  {
   "cell_type": "code",
   "execution_count": 139,
   "metadata": {},
   "outputs": [
    {
     "data": {
      "text/plain": [
       "Timestamp('2015-06-01 00:00:00')"
      ]
     },
     "execution_count": 139,
     "metadata": {},
     "output_type": "execute_result"
    }
   ],
   "source": [
    "dtoffset.rollforward(firstQuarterLastDay)"
   ]
  },
  {
   "cell_type": "code",
   "execution_count": 145,
   "metadata": {},
   "outputs": [
    {
     "data": {
      "text/plain": [
       "datetime.timedelta(7)"
      ]
     },
     "execution_count": 145,
     "metadata": {},
     "output_type": "execute_result"
    }
   ],
   "source": [
    "weekDelta=datetime.timedelta(weeks=1)\n",
    "weekDelta"
   ]
  },
  {
   "cell_type": "code",
   "execution_count": 146,
   "metadata": {},
   "outputs": [
    {
     "data": {
      "text/plain": [
       "datetime.datetime(2015, 4, 28, 4, 23, 32, 335486)"
      ]
     },
     "execution_count": 146,
     "metadata": {},
     "output_type": "execute_result"
    }
   ],
   "source": [
    "today=pd.datetime.now()\n",
    "today"
   ]
  },
  {
   "cell_type": "code",
   "execution_count": 147,
   "metadata": {},
   "outputs": [
    {
     "data": {
      "text/plain": [
       "datetime.datetime(2015, 5, 5, 4, 23, 32, 335486)"
      ]
     },
     "execution_count": 147,
     "metadata": {},
     "output_type": "execute_result"
    }
   ],
   "source": [
    "today+weekDelta"
   ]
  },
  {
   "cell_type": "markdown",
   "metadata": {
    "collapsed": true
   },
   "source": [
    "<b> 1 week from today</b>"
   ]
  },
  {
   "cell_type": "code",
   "execution_count": 148,
   "metadata": {},
   "outputs": [
    {
     "data": {
      "text/plain": [
       "Timestamp('2015-05-05 04:23:32.335486')"
      ]
     },
     "execution_count": 148,
     "metadata": {},
     "output_type": "execute_result"
    }
   ],
   "source": [
    "today+pd.DateOffset(weeks=1)"
   ]
  },
  {
   "cell_type": "markdown",
   "metadata": {},
   "source": [
    "<b>5 years from today</b>"
   ]
  },
  {
   "cell_type": "code",
   "execution_count": 149,
   "metadata": {},
   "outputs": [
    {
     "data": {
      "text/plain": [
       "Timestamp('2020-04-28 04:23:32.335486')"
      ]
     },
     "execution_count": 149,
     "metadata": {},
     "output_type": "execute_result"
    }
   ],
   "source": [
    "today+2*pd.DateOffset(years=2, months=6)"
   ]
  },
  {
   "cell_type": "markdown",
   "metadata": {},
   "source": [
    "<b>Roll forward functionality</b>"
   ]
  },
  {
   "cell_type": "code",
   "execution_count": 150,
   "metadata": {},
   "outputs": [
    {
     "data": {
      "text/plain": [
       "Timestamp('2014-03-01 00:00:00')"
      ]
     },
     "execution_count": 150,
     "metadata": {},
     "output_type": "execute_result"
    }
   ],
   "source": [
    "lastDay=pd.datetime(2013,12,31)\n",
    "from pandas.tseries.offsets import QuarterBegin\n",
    "dtoffset=QuarterBegin()\n",
    "lastDay+dtoffset"
   ]
  },
  {
   "cell_type": "code",
   "execution_count": 151,
   "metadata": {},
   "outputs": [
    {
     "data": {
      "text/plain": [
       "Timestamp('2014-03-01 00:00:00')"
      ]
     },
     "execution_count": 151,
     "metadata": {},
     "output_type": "execute_result"
    }
   ],
   "source": [
    "dtoffset.rollforward(lastDay)"
   ]
  },
  {
   "cell_type": "markdown",
   "metadata": {},
   "source": [
    "<h3>TimeDelta</h3>"
   ]
  },
  {
   "cell_type": "code",
   "execution_count": 152,
   "metadata": {},
   "outputs": [
    {
     "data": {
      "text/plain": [
       "datetime.timedelta(7)"
      ]
     },
     "execution_count": 152,
     "metadata": {},
     "output_type": "execute_result"
    }
   ],
   "source": [
    "weekDelta=datetime.timedelta(weeks=1)\n",
    "weekDelta"
   ]
  },
  {
   "cell_type": "code",
   "execution_count": 153,
   "metadata": {},
   "outputs": [
    {
     "data": {
      "text/plain": [
       "datetime.datetime(2015, 4, 30, 4, 30, 39, 548725)"
      ]
     },
     "execution_count": 153,
     "metadata": {},
     "output_type": "execute_result"
    }
   ],
   "source": [
    "today=pd.datetime.now()\n",
    "today"
   ]
  },
  {
   "cell_type": "code",
   "execution_count": 154,
   "metadata": {},
   "outputs": [
    {
     "data": {
      "text/plain": [
       "datetime.datetime(2015, 5, 7, 4, 30, 39, 548725)"
      ]
     },
     "execution_count": 154,
     "metadata": {},
     "output_type": "execute_result"
    }
   ],
   "source": [
    "today+weekDelta"
   ]
  },
  {
   "cell_type": "markdown",
   "metadata": {},
   "source": [
    "<h2>Time series-related instance methods<h2>\n",
    "<h3>Shifting / lagging</h3>"
   ]
  },
  {
   "cell_type": "code",
   "execution_count": 155,
   "metadata": {},
   "outputs": [
    {
     "data": {
      "text/plain": [
       "TradeDate\n",
       "1959-06-29    NaN\n",
       "1959-06-30    NaN\n",
       "1959-07-01    NaN\n",
       "1959-07-02    445\n",
       "1959-07-06    448\n",
       "1959-07-07    450\n",
       "1959-07-08    447\n",
       "1959-07-09    451\n",
       "1959-07-10    453\n",
       "1959-07-13    454\n",
       "1959-07-14    454\n",
       "1959-07-15    459\n",
       "1959-07-16    440\n",
       "1959-07-17    446\n",
       "1959-07-20    443\n",
       "...\n",
       "1960-06-10    525\n",
       "1960-06-13    541\n",
       "1960-06-14    531\n",
       "1960-06-15    529\n",
       "1960-06-16    530\n",
       "1960-06-17    531\n",
       "1960-06-20    527\n",
       "1960-06-21    525\n",
       "1960-06-22    519\n",
       "1960-06-23    514\n",
       "1960-06-24    509\n",
       "1960-06-27    505\n",
       "1960-06-28    513\n",
       "1960-06-29    525\n",
       "1960-06-30    519\n",
       "Name: closingPrice, Length: 255"
      ]
     },
     "execution_count": 155,
     "metadata": {},
     "output_type": "execute_result"
    }
   ],
   "source": [
    "ibmTS.shift(3)"
   ]
  },
  {
   "cell_type": "markdown",
   "metadata": {},
   "source": [
    "<b>Shift only on business days</b>"
   ]
  },
  {
   "cell_type": "code",
   "execution_count": 156,
   "metadata": {},
   "outputs": [
    {
     "data": {
      "text/plain": [
       "TradeDate\n",
       "1959-07-02    445\n",
       "1959-07-03    448\n",
       "1959-07-06    450\n",
       "1959-07-07    447\n",
       "1959-07-09    451\n",
       "1959-07-10    453\n",
       "1959-07-13    454\n",
       "1959-07-14    454\n",
       "1959-07-15    459\n",
       "1959-07-16    440\n",
       "1959-07-17    446\n",
       "1959-07-20    443\n",
       "1959-07-21    443\n",
       "1959-07-22    440\n",
       "1959-07-23    439\n",
       "...\n",
       "1960-06-15    529\n",
       "1960-06-16    530\n",
       "1960-06-17    531\n",
       "1960-06-20    527\n",
       "1960-06-21    525\n",
       "1960-06-22    519\n",
       "1960-06-23    514\n",
       "1960-06-24    509\n",
       "1960-06-27    505\n",
       "1960-06-28    513\n",
       "1960-06-29    525\n",
       "1960-06-30    519\n",
       "1960-07-01    519\n",
       "1960-07-04    522\n",
       "1960-07-05    522\n",
       "Name: closingPrice, Length: 255"
      ]
     },
     "execution_count": 156,
     "metadata": {},
     "output_type": "execute_result"
    }
   ],
   "source": [
    "ibmTS.shift(3, freq=pd.datetools.bday)"
   ]
  },
  {
   "cell_type": "markdown",
   "metadata": {},
   "source": [
    "<h3>Frequency Conversion</h3>"
   ]
  },
  {
   "cell_type": "code",
   "execution_count": 157,
   "metadata": {},
   "outputs": [
    {
     "data": {
      "text/plain": [
       "1959-06-30    448\n",
       "1959-07-31    428\n",
       "1959-08-31    425\n",
       "1959-09-30    411\n",
       "1959-10-30    411\n",
       "1959-11-30    428\n",
       "1959-12-31    439\n",
       "1960-01-29    418\n",
       "1960-02-29    419\n",
       "1960-03-31    445\n",
       "1960-04-29    453\n",
       "1960-05-31    504\n",
       "1960-06-30    522\n",
       "Freq: BM, Name: closingPrice, dtype: float64"
      ]
     },
     "execution_count": 157,
     "metadata": {},
     "output_type": "execute_result"
    }
   ],
   "source": [
    "ibmTS.asfreq('BM')"
   ]
  },
  {
   "cell_type": "code",
   "execution_count": 159,
   "metadata": {},
   "outputs": [
    {
     "data": {
      "text/plain": [
       "1959-06-29 00:00:00    445\n",
       "1959-06-29 01:00:00    NaN\n",
       "1959-06-29 02:00:00    NaN\n",
       "1959-06-29 03:00:00    NaN\n",
       "1959-06-29 04:00:00    NaN\n",
       "1959-06-29 05:00:00    NaN\n",
       "1959-06-29 06:00:00    NaN\n",
       "1959-06-29 07:00:00    NaN\n",
       "1959-06-29 08:00:00    NaN\n",
       "1959-06-29 09:00:00    NaN\n",
       "1959-06-29 10:00:00    NaN\n",
       "1959-06-29 11:00:00    NaN\n",
       "1959-06-29 12:00:00    NaN\n",
       "1959-06-29 13:00:00    NaN\n",
       "1959-06-29 14:00:00    NaN\n",
       "...\n",
       "1960-06-29 10:00:00    NaN\n",
       "1960-06-29 11:00:00    NaN\n",
       "1960-06-29 12:00:00    NaN\n",
       "1960-06-29 13:00:00    NaN\n",
       "1960-06-29 14:00:00    NaN\n",
       "1960-06-29 15:00:00    NaN\n",
       "1960-06-29 16:00:00    NaN\n",
       "1960-06-29 17:00:00    NaN\n",
       "1960-06-29 18:00:00    NaN\n",
       "1960-06-29 19:00:00    NaN\n",
       "1960-06-29 20:00:00    NaN\n",
       "1960-06-29 21:00:00    NaN\n",
       "1960-06-29 22:00:00    NaN\n",
       "1960-06-29 23:00:00    NaN\n",
       "1960-06-30 00:00:00    522\n",
       "Freq: H, Name: closingPrice, Length: 8809"
      ]
     },
     "execution_count": 159,
     "metadata": {},
     "output_type": "execute_result"
    }
   ],
   "source": [
    "ibmTS.asfreq('H')"
   ]
  },
  {
   "cell_type": "markdown",
   "metadata": {},
   "source": [
    "<h3>Re-sampling of data</h3>"
   ]
  },
  {
   "cell_type": "code",
   "execution_count": 160,
   "metadata": {
    "collapsed": true
   },
   "outputs": [],
   "source": [
    "import pandas.io.data as web\n",
    "import datetime"
   ]
  },
  {
   "cell_type": "code",
   "execution_count": 161,
   "metadata": {
    "collapsed": true
   },
   "outputs": [],
   "source": [
    "googTickData=web.get_data_yahoo(\"GOOG\", \n",
    "                      start=datetime.datetime(2014, 5, 27), \n",
    "                      end=datetime.datetime(2014, 5, 27))"
   ]
  },
  {
   "cell_type": "code",
   "execution_count": 162,
   "metadata": {},
   "outputs": [
    {
     "data": {
      "text/html": [
       "<div style=\"max-height:1000px;max-width:1500px;overflow:auto;\">\n",
       "<table border=\"1\" class=\"dataframe\">\n",
       "  <thead>\n",
       "    <tr style=\"text-align: right;\">\n",
       "      <th></th>\n",
       "      <th>Open</th>\n",
       "      <th>High</th>\n",
       "      <th>Low</th>\n",
       "      <th>Close</th>\n",
       "      <th>Volume</th>\n",
       "      <th>Adj Close</th>\n",
       "    </tr>\n",
       "    <tr>\n",
       "      <th>Date</th>\n",
       "      <th></th>\n",
       "      <th></th>\n",
       "      <th></th>\n",
       "      <th></th>\n",
       "      <th></th>\n",
       "      <th></th>\n",
       "    </tr>\n",
       "  </thead>\n",
       "  <tbody>\n",
       "    <tr>\n",
       "      <th>2014-05-27</th>\n",
       "      <td> 556</td>\n",
       "      <td> 566</td>\n",
       "      <td> 554.35</td>\n",
       "      <td> 565.95</td>\n",
       "      <td> 2098400</td>\n",
       "      <td> 565.95</td>\n",
       "    </tr>\n",
       "  </tbody>\n",
       "</table>\n",
       "</div>"
      ],
      "text/plain": [
       "            Open  High     Low   Close   Volume  Adj Close\n",
       "Date                                                      \n",
       "2014-05-27   556   566  554.35  565.95  2098400     565.95"
      ]
     },
     "execution_count": 162,
     "metadata": {},
     "output_type": "execute_result"
    }
   ],
   "source": [
    "googTickData.head()"
   ]
  },
  {
   "cell_type": "code",
   "execution_count": 164,
   "metadata": {},
   "outputs": [
    {
     "data": {
      "text/html": [
       "<div style=\"max-height:1000px;max-width:1500px;overflow:auto;\">\n",
       "<table border=\"1\" class=\"dataframe\">\n",
       "  <thead>\n",
       "    <tr style=\"text-align: right;\">\n",
       "      <th></th>\n",
       "      <th>Timestamp</th>\n",
       "      <th>close</th>\n",
       "      <th>high</th>\n",
       "      <th>low</th>\n",
       "      <th>open</th>\n",
       "      <th>volume</th>\n",
       "    </tr>\n",
       "  </thead>\n",
       "  <tbody>\n",
       "    <tr>\n",
       "      <th>0</th>\n",
       "      <td> 1401197402</td>\n",
       "      <td> 555.008</td>\n",
       "      <td> 556.41</td>\n",
       "      <td> 554.35</td>\n",
       "      <td> 556.38</td>\n",
       "      <td> 81100</td>\n",
       "    </tr>\n",
       "    <tr>\n",
       "      <th>1</th>\n",
       "      <td> 1401197460</td>\n",
       "      <td> 556.250</td>\n",
       "      <td> 556.30</td>\n",
       "      <td> 555.25</td>\n",
       "      <td> 555.25</td>\n",
       "      <td> 18500</td>\n",
       "    </tr>\n",
       "    <tr>\n",
       "      <th>2</th>\n",
       "      <td> 1401197526</td>\n",
       "      <td> 556.730</td>\n",
       "      <td> 556.75</td>\n",
       "      <td> 556.05</td>\n",
       "      <td> 556.39</td>\n",
       "      <td>  9900</td>\n",
       "    </tr>\n",
       "    <tr>\n",
       "      <th>3</th>\n",
       "      <td> 1401197582</td>\n",
       "      <td> 557.480</td>\n",
       "      <td> 557.67</td>\n",
       "      <td> 556.73</td>\n",
       "      <td> 556.73</td>\n",
       "      <td> 14700</td>\n",
       "    </tr>\n",
       "    <tr>\n",
       "      <th>4</th>\n",
       "      <td> 1401197642</td>\n",
       "      <td> 558.155</td>\n",
       "      <td> 558.66</td>\n",
       "      <td> 557.48</td>\n",
       "      <td> 557.59</td>\n",
       "      <td> 15700</td>\n",
       "    </tr>\n",
       "  </tbody>\n",
       "</table>\n",
       "</div>"
      ],
      "text/plain": [
       "    Timestamp    close    high     low    open  volume\n",
       "0  1401197402  555.008  556.41  554.35  556.38   81100\n",
       "1  1401197460  556.250  556.30  555.25  555.25   18500\n",
       "2  1401197526  556.730  556.75  556.05  556.39    9900\n",
       "3  1401197582  557.480  557.67  556.73  556.73   14700\n",
       "4  1401197642  558.155  558.66  557.48  557.59   15700"
      ]
     },
     "execution_count": 164,
     "metadata": {},
     "output_type": "execute_result"
    }
   ],
   "source": [
    "googTickData=pd.read_csv('./data/GOOG_tickdata_20140527.csv')\n",
    "googTickData.head()"
   ]
  },
  {
   "cell_type": "code",
   "execution_count": 165,
   "metadata": {
    "collapsed": true
   },
   "outputs": [],
   "source": [
    "googTickData['tstamp']=pd.to_datetime(googTickData['Timestamp'],unit='s',utc=True)"
   ]
  },
  {
   "cell_type": "code",
   "execution_count": 166,
   "metadata": {},
   "outputs": [
    {
     "data": {
      "text/html": [
       "<div style=\"max-height:1000px;max-width:1500px;overflow:auto;\">\n",
       "<table border=\"1\" class=\"dataframe\">\n",
       "  <thead>\n",
       "    <tr style=\"text-align: right;\">\n",
       "      <th></th>\n",
       "      <th>Timestamp</th>\n",
       "      <th>close</th>\n",
       "      <th>high</th>\n",
       "      <th>low</th>\n",
       "      <th>open</th>\n",
       "      <th>volume</th>\n",
       "      <th>tstamp</th>\n",
       "    </tr>\n",
       "  </thead>\n",
       "  <tbody>\n",
       "    <tr>\n",
       "      <th>0</th>\n",
       "      <td> 1401197402</td>\n",
       "      <td> 555.008</td>\n",
       "      <td> 556.41</td>\n",
       "      <td> 554.35</td>\n",
       "      <td> 556.38</td>\n",
       "      <td> 81100</td>\n",
       "      <td>2014-05-27 13:30:02</td>\n",
       "    </tr>\n",
       "    <tr>\n",
       "      <th>1</th>\n",
       "      <td> 1401197460</td>\n",
       "      <td> 556.250</td>\n",
       "      <td> 556.30</td>\n",
       "      <td> 555.25</td>\n",
       "      <td> 555.25</td>\n",
       "      <td> 18500</td>\n",
       "      <td>2014-05-27 13:31:00</td>\n",
       "    </tr>\n",
       "    <tr>\n",
       "      <th>2</th>\n",
       "      <td> 1401197526</td>\n",
       "      <td> 556.730</td>\n",
       "      <td> 556.75</td>\n",
       "      <td> 556.05</td>\n",
       "      <td> 556.39</td>\n",
       "      <td>  9900</td>\n",
       "      <td>2014-05-27 13:32:06</td>\n",
       "    </tr>\n",
       "    <tr>\n",
       "      <th>3</th>\n",
       "      <td> 1401197582</td>\n",
       "      <td> 557.480</td>\n",
       "      <td> 557.67</td>\n",
       "      <td> 556.73</td>\n",
       "      <td> 556.73</td>\n",
       "      <td> 14700</td>\n",
       "      <td>2014-05-27 13:33:02</td>\n",
       "    </tr>\n",
       "    <tr>\n",
       "      <th>4</th>\n",
       "      <td> 1401197642</td>\n",
       "      <td> 558.155</td>\n",
       "      <td> 558.66</td>\n",
       "      <td> 557.48</td>\n",
       "      <td> 557.59</td>\n",
       "      <td> 15700</td>\n",
       "      <td>2014-05-27 13:34:02</td>\n",
       "    </tr>\n",
       "  </tbody>\n",
       "</table>\n",
       "</div>"
      ],
      "text/plain": [
       "    Timestamp    close    high     low    open  volume              tstamp\n",
       "0  1401197402  555.008  556.41  554.35  556.38   81100 2014-05-27 13:30:02\n",
       "1  1401197460  556.250  556.30  555.25  555.25   18500 2014-05-27 13:31:00\n",
       "2  1401197526  556.730  556.75  556.05  556.39    9900 2014-05-27 13:32:06\n",
       "3  1401197582  557.480  557.67  556.73  556.73   14700 2014-05-27 13:33:02\n",
       "4  1401197642  558.155  558.66  557.48  557.59   15700 2014-05-27 13:34:02"
      ]
     },
     "execution_count": 166,
     "metadata": {},
     "output_type": "execute_result"
    }
   ],
   "source": [
    "googTickData.head()"
   ]
  },
  {
   "cell_type": "markdown",
   "metadata": {},
   "source": [
    "<b>Make the tstamp column the index, while also eliminating the epoch Timestamp column:</b>"
   ]
  },
  {
   "cell_type": "code",
   "execution_count": 172,
   "metadata": {},
   "outputs": [
    {
     "data": {
      "text/html": [
       "<div style=\"max-height:1000px;max-width:1500px;overflow:auto;\">\n",
       "<table border=\"1\" class=\"dataframe\">\n",
       "  <thead>\n",
       "    <tr style=\"text-align: right;\">\n",
       "      <th></th>\n",
       "      <th>close</th>\n",
       "      <th>high</th>\n",
       "      <th>low</th>\n",
       "      <th>open</th>\n",
       "      <th>volume</th>\n",
       "    </tr>\n",
       "    <tr>\n",
       "      <th>tstamp</th>\n",
       "      <th></th>\n",
       "      <th></th>\n",
       "      <th></th>\n",
       "      <th></th>\n",
       "      <th></th>\n",
       "    </tr>\n",
       "  </thead>\n",
       "  <tbody>\n",
       "    <tr>\n",
       "      <th>2014-05-27 13:30:02</th>\n",
       "      <td> 555.008</td>\n",
       "      <td> 556.41</td>\n",
       "      <td> 554.35</td>\n",
       "      <td> 556.38</td>\n",
       "      <td> 81100</td>\n",
       "    </tr>\n",
       "    <tr>\n",
       "      <th>2014-05-27 13:31:00</th>\n",
       "      <td> 556.250</td>\n",
       "      <td> 556.30</td>\n",
       "      <td> 555.25</td>\n",
       "      <td> 555.25</td>\n",
       "      <td> 18500</td>\n",
       "    </tr>\n",
       "    <tr>\n",
       "      <th>2014-05-27 13:32:06</th>\n",
       "      <td> 556.730</td>\n",
       "      <td> 556.75</td>\n",
       "      <td> 556.05</td>\n",
       "      <td> 556.39</td>\n",
       "      <td>  9900</td>\n",
       "    </tr>\n",
       "    <tr>\n",
       "      <th>2014-05-27 13:33:02</th>\n",
       "      <td> 557.480</td>\n",
       "      <td> 557.67</td>\n",
       "      <td> 556.73</td>\n",
       "      <td> 556.73</td>\n",
       "      <td> 14700</td>\n",
       "    </tr>\n",
       "    <tr>\n",
       "      <th>2014-05-27 13:34:02</th>\n",
       "      <td> 558.155</td>\n",
       "      <td> 558.66</td>\n",
       "      <td> 557.48</td>\n",
       "      <td> 557.59</td>\n",
       "      <td> 15700</td>\n",
       "    </tr>\n",
       "  </tbody>\n",
       "</table>\n",
       "</div>"
      ],
      "text/plain": [
       "                       close    high     low    open  volume\n",
       "tstamp                                                      \n",
       "2014-05-27 13:30:02  555.008  556.41  554.35  556.38   81100\n",
       "2014-05-27 13:31:00  556.250  556.30  555.25  555.25   18500\n",
       "2014-05-27 13:32:06  556.730  556.75  556.05  556.39    9900\n",
       "2014-05-27 13:33:02  557.480  557.67  556.73  556.73   14700\n",
       "2014-05-27 13:34:02  558.155  558.66  557.48  557.59   15700"
      ]
     },
     "execution_count": 172,
     "metadata": {},
     "output_type": "execute_result"
    }
   ],
   "source": [
    "googTickTS=googTickData.set_index('tstamp')\n",
    "googTickTS=googTickTS.drop('Timestamp',axis=1)\n",
    "googTickTS.head()"
   ]
  },
  {
   "cell_type": "markdown",
   "metadata": {},
   "source": [
    "<b>Convert to US Eastern standard time:</b>"
   ]
  },
  {
   "cell_type": "code",
   "execution_count": 173,
   "metadata": {},
   "outputs": [
    {
     "data": {
      "text/html": [
       "<div style=\"max-height:1000px;max-width:1500px;overflow:auto;\">\n",
       "<table border=\"1\" class=\"dataframe\">\n",
       "  <thead>\n",
       "    <tr style=\"text-align: right;\">\n",
       "      <th></th>\n",
       "      <th>close</th>\n",
       "      <th>high</th>\n",
       "      <th>low</th>\n",
       "      <th>open</th>\n",
       "      <th>volume</th>\n",
       "    </tr>\n",
       "    <tr>\n",
       "      <th>tstamp</th>\n",
       "      <th></th>\n",
       "      <th></th>\n",
       "      <th></th>\n",
       "      <th></th>\n",
       "      <th></th>\n",
       "    </tr>\n",
       "  </thead>\n",
       "  <tbody>\n",
       "    <tr>\n",
       "      <th>2014-05-27 09:30:02-04:00</th>\n",
       "      <td> 555.008</td>\n",
       "      <td> 556.41</td>\n",
       "      <td> 554.35</td>\n",
       "      <td> 556.38</td>\n",
       "      <td> 81100</td>\n",
       "    </tr>\n",
       "    <tr>\n",
       "      <th>2014-05-27 09:31:00-04:00</th>\n",
       "      <td> 556.250</td>\n",
       "      <td> 556.30</td>\n",
       "      <td> 555.25</td>\n",
       "      <td> 555.25</td>\n",
       "      <td> 18500</td>\n",
       "    </tr>\n",
       "    <tr>\n",
       "      <th>2014-05-27 09:32:06-04:00</th>\n",
       "      <td> 556.730</td>\n",
       "      <td> 556.75</td>\n",
       "      <td> 556.05</td>\n",
       "      <td> 556.39</td>\n",
       "      <td>  9900</td>\n",
       "    </tr>\n",
       "    <tr>\n",
       "      <th>2014-05-27 09:33:02-04:00</th>\n",
       "      <td> 557.480</td>\n",
       "      <td> 557.67</td>\n",
       "      <td> 556.73</td>\n",
       "      <td> 556.73</td>\n",
       "      <td> 14700</td>\n",
       "    </tr>\n",
       "    <tr>\n",
       "      <th>2014-05-27 09:34:02-04:00</th>\n",
       "      <td> 558.155</td>\n",
       "      <td> 558.66</td>\n",
       "      <td> 557.48</td>\n",
       "      <td> 557.59</td>\n",
       "      <td> 15700</td>\n",
       "    </tr>\n",
       "  </tbody>\n",
       "</table>\n",
       "</div>"
      ],
      "text/plain": [
       "                             close    high     low    open  volume\n",
       "tstamp                                                            \n",
       "2014-05-27 09:30:02-04:00  555.008  556.41  554.35  556.38   81100\n",
       "2014-05-27 09:31:00-04:00  556.250  556.30  555.25  555.25   18500\n",
       "2014-05-27 09:32:06-04:00  556.730  556.75  556.05  556.39    9900\n",
       "2014-05-27 09:33:02-04:00  557.480  557.67  556.73  556.73   14700\n",
       "2014-05-27 09:34:02-04:00  558.155  558.66  557.48  557.59   15700"
      ]
     },
     "execution_count": 173,
     "metadata": {},
     "output_type": "execute_result"
    }
   ],
   "source": [
    "googTickTS.index=googTickTS.index.tz_localize('UTC').tz_convert('US/Eastern')\n",
    "googTickTS.head()"
   ]
  },
  {
   "cell_type": "code",
   "execution_count": 174,
   "metadata": {},
   "outputs": [
    {
     "data": {
      "text/html": [
       "<div style=\"max-height:1000px;max-width:1500px;overflow:auto;\">\n",
       "<table border=\"1\" class=\"dataframe\">\n",
       "  <thead>\n",
       "    <tr style=\"text-align: right;\">\n",
       "      <th></th>\n",
       "      <th>close</th>\n",
       "      <th>high</th>\n",
       "      <th>low</th>\n",
       "      <th>open</th>\n",
       "      <th>volume</th>\n",
       "    </tr>\n",
       "    <tr>\n",
       "      <th>tstamp</th>\n",
       "      <th></th>\n",
       "      <th></th>\n",
       "      <th></th>\n",
       "      <th></th>\n",
       "      <th></th>\n",
       "    </tr>\n",
       "  </thead>\n",
       "  <tbody>\n",
       "    <tr>\n",
       "      <th>2014-05-27 15:56:00-04:00</th>\n",
       "      <td> 565.430</td>\n",
       "      <td> 565.48</td>\n",
       "      <td> 565.30</td>\n",
       "      <td> 565.385</td>\n",
       "      <td>  14300</td>\n",
       "    </tr>\n",
       "    <tr>\n",
       "      <th>2014-05-27 15:57:00-04:00</th>\n",
       "      <td> 565.305</td>\n",
       "      <td> 565.46</td>\n",
       "      <td> 565.20</td>\n",
       "      <td> 565.400</td>\n",
       "      <td>  14700</td>\n",
       "    </tr>\n",
       "    <tr>\n",
       "      <th>2014-05-27 15:58:00-04:00</th>\n",
       "      <td> 565.110</td>\n",
       "      <td> 565.31</td>\n",
       "      <td> 565.10</td>\n",
       "      <td> 565.310</td>\n",
       "      <td>  23200</td>\n",
       "    </tr>\n",
       "    <tr>\n",
       "      <th>2014-05-27 15:59:00-04:00</th>\n",
       "      <td> 565.940</td>\n",
       "      <td> 566.00</td>\n",
       "      <td> 565.08</td>\n",
       "      <td> 565.230</td>\n",
       "      <td>  55600</td>\n",
       "    </tr>\n",
       "    <tr>\n",
       "      <th>2014-05-27 16:00:00-04:00</th>\n",
       "      <td> 565.950</td>\n",
       "      <td> 565.95</td>\n",
       "      <td> 565.95</td>\n",
       "      <td> 565.950</td>\n",
       "      <td> 126000</td>\n",
       "    </tr>\n",
       "  </tbody>\n",
       "</table>\n",
       "</div>"
      ],
      "text/plain": [
       "                             close    high     low     open  volume\n",
       "tstamp                                                             \n",
       "2014-05-27 15:56:00-04:00  565.430  565.48  565.30  565.385   14300\n",
       "2014-05-27 15:57:00-04:00  565.305  565.46  565.20  565.400   14700\n",
       "2014-05-27 15:58:00-04:00  565.110  565.31  565.10  565.310   23200\n",
       "2014-05-27 15:59:00-04:00  565.940  566.00  565.08  565.230   55600\n",
       "2014-05-27 16:00:00-04:00  565.950  565.95  565.95  565.950  126000"
      ]
     },
     "execution_count": 174,
     "metadata": {},
     "output_type": "execute_result"
    }
   ],
   "source": [
    "googTickTS.tail()"
   ]
  },
  {
   "cell_type": "code",
   "execution_count": 176,
   "metadata": {},
   "outputs": [
    {
     "data": {
      "text/plain": [
       "390"
      ]
     },
     "execution_count": 176,
     "metadata": {},
     "output_type": "execute_result"
    }
   ],
   "source": [
    "len(googTickTS)"
   ]
  },
  {
   "cell_type": "markdown",
   "metadata": {},
   "source": [
    "<b>Using downsampling to obtain a snapshot every 5 min instead of every minute</b>"
   ]
  },
  {
   "cell_type": "code",
   "execution_count": 177,
   "metadata": {},
   "outputs": [
    {
     "data": {
      "text/html": [
       "<div style=\"max-height:1000px;max-width:1500px;overflow:auto;\">\n",
       "<table border=\"1\" class=\"dataframe\">\n",
       "  <thead>\n",
       "    <tr style=\"text-align: right;\">\n",
       "      <th></th>\n",
       "      <th>close</th>\n",
       "      <th>high</th>\n",
       "      <th>low</th>\n",
       "      <th>open</th>\n",
       "      <th>volume</th>\n",
       "    </tr>\n",
       "    <tr>\n",
       "      <th>tstamp</th>\n",
       "      <th></th>\n",
       "      <th></th>\n",
       "      <th></th>\n",
       "      <th></th>\n",
       "      <th></th>\n",
       "    </tr>\n",
       "  </thead>\n",
       "  <tbody>\n",
       "    <tr>\n",
       "      <th>2014-05-27 09:30:00-04:00</th>\n",
       "      <td> 556.725</td>\n",
       "      <td> 557.158</td>\n",
       "      <td> 555.972</td>\n",
       "      <td> 556.468</td>\n",
       "      <td> 27980</td>\n",
       "    </tr>\n",
       "    <tr>\n",
       "      <th>2014-05-27 09:35:00-04:00</th>\n",
       "      <td> 556.936</td>\n",
       "      <td> 557.648</td>\n",
       "      <td> 556.851</td>\n",
       "      <td> 557.342</td>\n",
       "      <td> 24620</td>\n",
       "    </tr>\n",
       "    <tr>\n",
       "      <th>2014-05-27 09:40:00-04:00</th>\n",
       "      <td> 556.486</td>\n",
       "      <td> 556.800</td>\n",
       "      <td> 556.277</td>\n",
       "      <td> 556.607</td>\n",
       "      <td>  8620</td>\n",
       "    </tr>\n",
       "    <tr>\n",
       "      <th>2014-05-27 09:45:00-04:00</th>\n",
       "      <td> 557.053</td>\n",
       "      <td> 557.276</td>\n",
       "      <td> 556.738</td>\n",
       "      <td> 556.966</td>\n",
       "      <td>  9720</td>\n",
       "    </tr>\n",
       "    <tr>\n",
       "      <th>2014-05-27 09:50:00-04:00</th>\n",
       "      <td> 556.662</td>\n",
       "      <td> 556.936</td>\n",
       "      <td> 556.464</td>\n",
       "      <td> 556.803</td>\n",
       "      <td> 14560</td>\n",
       "    </tr>\n",
       "    <tr>\n",
       "      <th>2014-05-27 09:55:00-04:00</th>\n",
       "      <td> 555.966</td>\n",
       "      <td> 556.354</td>\n",
       "      <td> 555.858</td>\n",
       "      <td> 556.236</td>\n",
       "      <td> 12400</td>\n",
       "    </tr>\n",
       "  </tbody>\n",
       "</table>\n",
       "</div>"
      ],
      "text/plain": [
       "                             close     high      low     open  volume\n",
       "tstamp                                                               \n",
       "2014-05-27 09:30:00-04:00  556.725  557.158  555.972  556.468   27980\n",
       "2014-05-27 09:35:00-04:00  556.936  557.648  556.851  557.342   24620\n",
       "2014-05-27 09:40:00-04:00  556.486  556.800  556.277  556.607    8620\n",
       "2014-05-27 09:45:00-04:00  557.053  557.276  556.738  556.966    9720\n",
       "2014-05-27 09:50:00-04:00  556.662  556.936  556.464  556.803   14560\n",
       "2014-05-27 09:55:00-04:00  555.966  556.354  555.858  556.236   12400"
      ]
     },
     "execution_count": 177,
     "metadata": {},
     "output_type": "execute_result"
    }
   ],
   "source": [
    "googTickTS.resample('5Min').head(6)"
   ]
  },
  {
   "cell_type": "code",
   "execution_count": 178,
   "metadata": {},
   "outputs": [
    {
     "data": {
      "text/html": [
       "<div style=\"max-height:1000px;max-width:1500px;overflow:auto;\">\n",
       "<table border=\"1\" class=\"dataframe\">\n",
       "  <thead>\n",
       "    <tr style=\"text-align: right;\">\n",
       "      <th></th>\n",
       "      <th>close</th>\n",
       "      <th>high</th>\n",
       "      <th>low</th>\n",
       "      <th>open</th>\n",
       "      <th>volume</th>\n",
       "    </tr>\n",
       "    <tr>\n",
       "      <th>tstamp</th>\n",
       "      <th></th>\n",
       "      <th></th>\n",
       "      <th></th>\n",
       "      <th></th>\n",
       "      <th></th>\n",
       "    </tr>\n",
       "  </thead>\n",
       "  <tbody>\n",
       "    <tr>\n",
       "      <th>2014-05-27 09:30:00-04:00</th>\n",
       "      <td> 555.008</td>\n",
       "      <td> 556.300</td>\n",
       "      <td> 554.35</td>\n",
       "      <td> 555.25</td>\n",
       "      <td> 9900</td>\n",
       "    </tr>\n",
       "    <tr>\n",
       "      <th>2014-05-27 09:40:00-04:00</th>\n",
       "      <td> 556.190</td>\n",
       "      <td> 556.560</td>\n",
       "      <td> 556.13</td>\n",
       "      <td> 556.35</td>\n",
       "      <td> 3500</td>\n",
       "    </tr>\n",
       "    <tr>\n",
       "      <th>2014-05-27 09:50:00-04:00</th>\n",
       "      <td> 554.770</td>\n",
       "      <td> 555.550</td>\n",
       "      <td> 554.77</td>\n",
       "      <td> 555.55</td>\n",
       "      <td> 3400</td>\n",
       "    </tr>\n",
       "    <tr>\n",
       "      <th>2014-05-27 10:00:00-04:00</th>\n",
       "      <td> 554.580</td>\n",
       "      <td> 554.985</td>\n",
       "      <td> 554.45</td>\n",
       "      <td> 554.58</td>\n",
       "      <td> 1800</td>\n",
       "    </tr>\n",
       "  </tbody>\n",
       "</table>\n",
       "</div>"
      ],
      "text/plain": [
       "                             close     high     low    open  volume\n",
       "tstamp                                                             \n",
       "2014-05-27 09:30:00-04:00  555.008  556.300  554.35  555.25    9900\n",
       "2014-05-27 09:40:00-04:00  556.190  556.560  556.13  556.35    3500\n",
       "2014-05-27 09:50:00-04:00  554.770  555.550  554.77  555.55    3400\n",
       "2014-05-27 10:00:00-04:00  554.580  554.985  554.45  554.58    1800"
      ]
     },
     "execution_count": 178,
     "metadata": {},
     "output_type": "execute_result"
    }
   ],
   "source": [
    "googTickTS.resample('10Min', how=np.min).head(4)"
   ]
  },
  {
   "cell_type": "markdown",
   "metadata": {},
   "source": [
    "<b>Specify whether right or left interval closed</b>"
   ]
  },
  {
   "cell_type": "code",
   "execution_count": 179,
   "metadata": {},
   "outputs": [
    {
     "data": {
      "text/html": [
       "<div style=\"max-height:1000px;max-width:1500px;overflow:auto;\">\n",
       "<table border=\"1\" class=\"dataframe\">\n",
       "  <thead>\n",
       "    <tr style=\"text-align: right;\">\n",
       "      <th></th>\n",
       "      <th>close</th>\n",
       "      <th>high</th>\n",
       "      <th>low</th>\n",
       "      <th>open</th>\n",
       "      <th>volume</th>\n",
       "    </tr>\n",
       "    <tr>\n",
       "      <th>tstamp</th>\n",
       "      <th></th>\n",
       "      <th></th>\n",
       "      <th></th>\n",
       "      <th></th>\n",
       "      <th></th>\n",
       "    </tr>\n",
       "  </thead>\n",
       "  <tbody>\n",
       "    <tr>\n",
       "      <th>2014-05-27 15:45:00-04:00</th>\n",
       "      <td> 564.3167</td>\n",
       "      <td> 564.3733</td>\n",
       "      <td> 564.1075</td>\n",
       "      <td> 564.1700</td>\n",
       "      <td> 12816.6667</td>\n",
       "    </tr>\n",
       "    <tr>\n",
       "      <th>2014-05-27 15:50:00-04:00</th>\n",
       "      <td> 565.1128</td>\n",
       "      <td> 565.1725</td>\n",
       "      <td> 565.0090</td>\n",
       "      <td> 565.0650</td>\n",
       "      <td> 13325.0000</td>\n",
       "    </tr>\n",
       "    <tr>\n",
       "      <th>2014-05-27 15:55:00-04:00</th>\n",
       "      <td> 565.5158</td>\n",
       "      <td> 565.6033</td>\n",
       "      <td> 565.3083</td>\n",
       "      <td> 565.4158</td>\n",
       "      <td> 40933.3333</td>\n",
       "    </tr>\n",
       "  </tbody>\n",
       "</table>\n",
       "</div>"
      ],
      "text/plain": [
       "                              close      high       low      open      volume\n",
       "tstamp                                                                       \n",
       "2014-05-27 15:45:00-04:00  564.3167  564.3733  564.1075  564.1700  12816.6667\n",
       "2014-05-27 15:50:00-04:00  565.1128  565.1725  565.0090  565.0650  13325.0000\n",
       "2014-05-27 15:55:00-04:00  565.5158  565.6033  565.3083  565.4158  40933.3333"
      ]
     },
     "execution_count": 179,
     "metadata": {},
     "output_type": "execute_result"
    }
   ],
   "source": [
    "pd.set_option('display.precision',5)\n",
    "googTickTS.resample('5Min', closed='right').tail(3)"
   ]
  },
  {
   "cell_type": "code",
   "execution_count": 180,
   "metadata": {},
   "outputs": [
    {
     "data": {
      "text/html": [
       "<div style=\"max-height:1000px;max-width:1500px;overflow:auto;\">\n",
       "<table border=\"1\" class=\"dataframe\">\n",
       "  <thead>\n",
       "    <tr style=\"text-align: right;\">\n",
       "      <th></th>\n",
       "      <th>close</th>\n",
       "      <th>high</th>\n",
       "      <th>low</th>\n",
       "      <th>open</th>\n",
       "      <th>volume</th>\n",
       "    </tr>\n",
       "    <tr>\n",
       "      <th>tstamp</th>\n",
       "      <th></th>\n",
       "      <th></th>\n",
       "      <th></th>\n",
       "      <th></th>\n",
       "      <th></th>\n",
       "    </tr>\n",
       "  </thead>\n",
       "  <tbody>\n",
       "    <tr>\n",
       "      <th>2014-05-27 09:30:00-04:00</th>\n",
       "      <td> 555.008</td>\n",
       "      <td> 556.41</td>\n",
       "      <td> 554.35</td>\n",
       "      <td> 556.38</td>\n",
       "      <td> 81100</td>\n",
       "    </tr>\n",
       "    <tr>\n",
       "      <th>2014-05-27 09:30:30-04:00</th>\n",
       "      <td> 555.008</td>\n",
       "      <td> 556.41</td>\n",
       "      <td> 554.35</td>\n",
       "      <td> 556.38</td>\n",
       "      <td> 81100</td>\n",
       "    </tr>\n",
       "    <tr>\n",
       "      <th>2014-05-27 09:31:00-04:00</th>\n",
       "      <td> 556.250</td>\n",
       "      <td> 556.30</td>\n",
       "      <td> 555.25</td>\n",
       "      <td> 555.25</td>\n",
       "      <td> 18500</td>\n",
       "    </tr>\n",
       "    <tr>\n",
       "      <th>2014-05-27 09:31:30-04:00</th>\n",
       "      <td> 556.250</td>\n",
       "      <td> 556.30</td>\n",
       "      <td> 555.25</td>\n",
       "      <td> 555.25</td>\n",
       "      <td> 18500</td>\n",
       "    </tr>\n",
       "    <tr>\n",
       "      <th>2014-05-27 09:32:00-04:00</th>\n",
       "      <td> 556.730</td>\n",
       "      <td> 556.75</td>\n",
       "      <td> 556.05</td>\n",
       "      <td> 556.39</td>\n",
       "      <td>  9900</td>\n",
       "    </tr>\n",
       "  </tbody>\n",
       "</table>\n",
       "</div>"
      ],
      "text/plain": [
       "                             close    high     low    open  volume\n",
       "tstamp                                                            \n",
       "2014-05-27 09:30:00-04:00  555.008  556.41  554.35  556.38   81100\n",
       "2014-05-27 09:30:30-04:00  555.008  556.41  554.35  556.38   81100\n",
       "2014-05-27 09:31:00-04:00  556.250  556.30  555.25  555.25   18500\n",
       "2014-05-27 09:31:30-04:00  556.250  556.30  555.25  555.25   18500\n",
       "2014-05-27 09:32:00-04:00  556.730  556.75  556.05  556.39    9900"
      ]
     },
     "execution_count": 180,
     "metadata": {},
     "output_type": "execute_result"
    }
   ],
   "source": [
    "googTickTS[:3].resample('30s', fill_method='ffill')"
   ]
  },
  {
   "cell_type": "code",
   "execution_count": 181,
   "metadata": {},
   "outputs": [
    {
     "data": {
      "text/html": [
       "<div style=\"max-height:1000px;max-width:1500px;overflow:auto;\">\n",
       "<table border=\"1\" class=\"dataframe\">\n",
       "  <thead>\n",
       "    <tr style=\"text-align: right;\">\n",
       "      <th></th>\n",
       "      <th>close</th>\n",
       "      <th>high</th>\n",
       "      <th>low</th>\n",
       "      <th>open</th>\n",
       "      <th>volume</th>\n",
       "    </tr>\n",
       "    <tr>\n",
       "      <th>tstamp</th>\n",
       "      <th></th>\n",
       "      <th></th>\n",
       "      <th></th>\n",
       "      <th></th>\n",
       "      <th></th>\n",
       "    </tr>\n",
       "  </thead>\n",
       "  <tbody>\n",
       "    <tr>\n",
       "      <th>2014-05-27 09:30:00-04:00</th>\n",
       "      <td> 555.008</td>\n",
       "      <td> 556.41</td>\n",
       "      <td> 554.35</td>\n",
       "      <td> 556.38</td>\n",
       "      <td> 81100</td>\n",
       "    </tr>\n",
       "    <tr>\n",
       "      <th>2014-05-27 09:30:30-04:00</th>\n",
       "      <td> 556.250</td>\n",
       "      <td> 556.30</td>\n",
       "      <td> 555.25</td>\n",
       "      <td> 555.25</td>\n",
       "      <td> 18500</td>\n",
       "    </tr>\n",
       "    <tr>\n",
       "      <th>2014-05-27 09:31:00-04:00</th>\n",
       "      <td> 556.250</td>\n",
       "      <td> 556.30</td>\n",
       "      <td> 555.25</td>\n",
       "      <td> 555.25</td>\n",
       "      <td> 18500</td>\n",
       "    </tr>\n",
       "    <tr>\n",
       "      <th>2014-05-27 09:31:30-04:00</th>\n",
       "      <td> 556.730</td>\n",
       "      <td> 556.75</td>\n",
       "      <td> 556.05</td>\n",
       "      <td> 556.39</td>\n",
       "      <td>  9900</td>\n",
       "    </tr>\n",
       "    <tr>\n",
       "      <th>2014-05-27 09:32:00-04:00</th>\n",
       "      <td> 556.730</td>\n",
       "      <td> 556.75</td>\n",
       "      <td> 556.05</td>\n",
       "      <td> 556.39</td>\n",
       "      <td>  9900</td>\n",
       "    </tr>\n",
       "  </tbody>\n",
       "</table>\n",
       "</div>"
      ],
      "text/plain": [
       "                             close    high     low    open  volume\n",
       "tstamp                                                            \n",
       "2014-05-27 09:30:00-04:00  555.008  556.41  554.35  556.38   81100\n",
       "2014-05-27 09:30:30-04:00  556.250  556.30  555.25  555.25   18500\n",
       "2014-05-27 09:31:00-04:00  556.250  556.30  555.25  555.25   18500\n",
       "2014-05-27 09:31:30-04:00  556.730  556.75  556.05  556.39    9900\n",
       "2014-05-27 09:32:00-04:00  556.730  556.75  556.05  556.39    9900"
      ]
     },
     "execution_count": 181,
     "metadata": {},
     "output_type": "execute_result"
    }
   ],
   "source": [
    "googTickTS[:3].resample('30s', fill_method='bfill')"
   ]
  },
  {
   "cell_type": "code",
   "execution_count": 182,
   "metadata": {},
   "outputs": [
    {
     "data": {
      "text/html": [
       "<div style=\"max-height:1000px;max-width:1500px;overflow:auto;\">\n",
       "<table border=\"1\" class=\"dataframe\">\n",
       "  <thead>\n",
       "    <tr style=\"text-align: right;\">\n",
       "      <th></th>\n",
       "      <th>close</th>\n",
       "      <th>high</th>\n",
       "      <th>low</th>\n",
       "      <th>open</th>\n",
       "      <th>volume</th>\n",
       "    </tr>\n",
       "    <tr>\n",
       "      <th>tstamp</th>\n",
       "      <th></th>\n",
       "      <th></th>\n",
       "      <th></th>\n",
       "      <th></th>\n",
       "      <th></th>\n",
       "    </tr>\n",
       "  </thead>\n",
       "  <tbody>\n",
       "    <tr>\n",
       "      <th>2014-05-27 09:30:00-04:00</th>\n",
       "      <td> 556.8266</td>\n",
       "      <td> 557.4362</td>\n",
       "      <td> 556.3144</td>\n",
       "      <td> 556.8800</td>\n",
       "      <td> 28075.0000</td>\n",
       "    </tr>\n",
       "    <tr>\n",
       "      <th>2014-05-27 09:37:30-04:00</th>\n",
       "      <td> 556.5889</td>\n",
       "      <td> 556.9342</td>\n",
       "      <td> 556.4264</td>\n",
       "      <td> 556.7206</td>\n",
       "      <td> 11642.8571</td>\n",
       "    </tr>\n",
       "    <tr>\n",
       "      <th>2014-05-27 09:45:00-04:00</th>\n",
       "      <td> 556.9921</td>\n",
       "      <td> 557.2185</td>\n",
       "      <td> 556.7171</td>\n",
       "      <td> 556.9871</td>\n",
       "      <td>  9800.0000</td>\n",
       "    </tr>\n",
       "    <tr>\n",
       "      <th>2014-05-27 09:52:30-04:00</th>\n",
       "      <td> 556.1824</td>\n",
       "      <td> 556.5375</td>\n",
       "      <td> 556.0350</td>\n",
       "      <td> 556.3896</td>\n",
       "      <td> 14350.0000</td>\n",
       "    </tr>\n",
       "    <tr>\n",
       "      <th>2014-05-27 10:00:00-04:00</th>\n",
       "      <td> 555.2111</td>\n",
       "      <td> 555.4368</td>\n",
       "      <td> 554.8288</td>\n",
       "      <td> 554.9675</td>\n",
       "      <td> 12512.5000</td>\n",
       "    </tr>\n",
       "  </tbody>\n",
       "</table>\n",
       "</div>"
      ],
      "text/plain": [
       "                              close      high       low      open      volume\n",
       "tstamp                                                                       \n",
       "2014-05-27 09:30:00-04:00  556.8266  557.4362  556.3144  556.8800  28075.0000\n",
       "2014-05-27 09:37:30-04:00  556.5889  556.9342  556.4264  556.7206  11642.8571\n",
       "2014-05-27 09:45:00-04:00  556.9921  557.2185  556.7171  556.9871   9800.0000\n",
       "2014-05-27 09:52:30-04:00  556.1824  556.5375  556.0350  556.3896  14350.0000\n",
       "2014-05-27 10:00:00-04:00  555.2111  555.4368  554.8288  554.9675  12512.5000"
      ]
     },
     "execution_count": 182,
     "metadata": {},
     "output_type": "execute_result"
    }
   ],
   "source": [
    "googTickTS.resample('7T30S').head(5)"
   ]
  },
  {
   "cell_type": "markdown",
   "metadata": {},
   "source": [
    "<h2>Timeseries Concepts and Datatypes</h2>\n",
    "<h3>Period and PeriodIndex</h3>"
   ]
  },
  {
   "cell_type": "code",
   "execution_count": 183,
   "metadata": {},
   "outputs": [
    {
     "data": {
      "text/plain": [
       "Period('2014', 'A-MAY')"
      ]
     },
     "execution_count": 183,
     "metadata": {},
     "output_type": "execute_result"
    }
   ],
   "source": [
    "# May 2014 period\n",
    "pd.Period('2014', freq='A-MAY')"
   ]
  },
  {
   "cell_type": "code",
   "execution_count": 184,
   "metadata": {},
   "outputs": [
    {
     "data": {
      "text/plain": [
       "Period('2014-06-11', 'D')"
      ]
     },
     "execution_count": 184,
     "metadata": {},
     "output_type": "execute_result"
    }
   ],
   "source": [
    "pd.Period('06/11/2014')"
   ]
  },
  {
   "cell_type": "code",
   "execution_count": 185,
   "metadata": {},
   "outputs": [
    {
     "data": {
      "text/plain": [
       "Period('1918-11-11 11:00', 'H')"
      ]
     },
     "execution_count": 185,
     "metadata": {},
     "output_type": "execute_result"
    }
   ],
   "source": [
    "pd.Period('11/11/1918 11:00',freq='H')"
   ]
  },
  {
   "cell_type": "code",
   "execution_count": 186,
   "metadata": {},
   "outputs": [
    {
     "data": {
      "text/plain": [
       "Period('1918-11-11 11:00', 'H')"
      ]
     },
     "execution_count": 186,
     "metadata": {},
     "output_type": "execute_result"
    }
   ],
   "source": [
    "pd.Period('11/11/1918 11:00',freq='H')"
   ]
  },
  {
   "cell_type": "markdown",
   "metadata": {},
   "source": [
    "<b>Add integer to Period</b>"
   ]
  },
  {
   "cell_type": "code",
   "execution_count": 187,
   "metadata": {},
   "outputs": [
    {
     "data": {
      "text/plain": [
       "Period('2014-07-04', 'D')"
      ]
     },
     "execution_count": 187,
     "metadata": {},
     "output_type": "execute_result"
    }
   ],
   "source": [
    "pd.Period('06/30/2014')+4"
   ]
  },
  {
   "cell_type": "code",
   "execution_count": 188,
   "metadata": {},
   "outputs": [
    {
     "data": {
      "text/plain": [
       "Period('1918-11-09 11:00', 'H')"
      ]
     },
     "execution_count": 188,
     "metadata": {},
     "output_type": "execute_result"
    }
   ],
   "source": [
    "pd.Period('11/11/1918 11:00',freq='H') - 48"
   ]
  },
  {
   "cell_type": "markdown",
   "metadata": {},
   "source": [
    "<h4>PeriodIndex</h4>"
   ]
  },
  {
   "cell_type": "code",
   "execution_count": 189,
   "metadata": {},
   "outputs": [
    {
     "data": {
      "text/plain": [
       "<class 'pandas.tseries.period.PeriodIndex'>\n",
       "[2014-02-01, ..., 2014-02-06]\n",
       "Length: 6, Freq: D"
      ]
     },
     "execution_count": 189,
     "metadata": {},
     "output_type": "execute_result"
    }
   ],
   "source": [
    "perRng=pd.period_range('02/01/2014','02/06/2014',freq='D')\n",
    "perRng"
   ]
  },
  {
   "cell_type": "code",
   "execution_count": 190,
   "metadata": {},
   "outputs": [
    {
     "data": {
      "text/plain": [
       "pandas.tseries.period.PeriodIndex"
      ]
     },
     "execution_count": 190,
     "metadata": {},
     "output_type": "execute_result"
    }
   ],
   "source": [
    "type(perRng[:2])"
   ]
  },
  {
   "cell_type": "code",
   "execution_count": 191,
   "metadata": {},
   "outputs": [
    {
     "data": {
      "text/plain": [
       "<class 'pandas.tseries.period.PeriodIndex'>\n",
       "[2014-02-01, 2014-02-02]\n",
       "Length: 2, Freq: D"
      ]
     },
     "execution_count": 191,
     "metadata": {},
     "output_type": "execute_result"
    }
   ],
   "source": [
    "perRng[:2]"
   ]
  },
  {
   "cell_type": "code",
   "execution_count": 192,
   "metadata": {},
   "outputs": [
    {
     "data": {
      "text/plain": [
       "<class 'pandas.tseries.period.PeriodIndex'>\n",
       "[2014-07-01, 2014-07-31]\n",
       "Length: 2, Freq: D"
      ]
     },
     "execution_count": 192,
     "metadata": {},
     "output_type": "execute_result"
    }
   ],
   "source": [
    "JulyPeriod=pd.PeriodIndex(['07/01/2014','07/31/2014'], freq='D')\n",
    "JulyPeriod"
   ]
  },
  {
   "cell_type": "markdown",
   "metadata": {},
   "source": [
    "<h3>Conversion between Time Series data types</h3>"
   ]
  },
  {
   "cell_type": "code",
   "execution_count": 196,
   "metadata": {},
   "outputs": [
    {
     "data": {
      "text/plain": [
       "Timestamp('2014-07-13 00:00:00')"
      ]
     },
     "execution_count": 196,
     "metadata": {},
     "output_type": "execute_result"
    }
   ],
   "source": [
    "worldCupFinal=pd.to_datetime('07/13/2014')\n",
    "worldCupFinal"
   ]
  },
  {
   "cell_type": "code",
   "execution_count": 197,
   "metadata": {},
   "outputs": [
    {
     "data": {
      "text/plain": [
       "Period('2014-07-13', 'D')"
      ]
     },
     "execution_count": 197,
     "metadata": {},
     "output_type": "execute_result"
    }
   ],
   "source": [
    "worldCupFinal.to_period('D')"
   ]
  },
  {
   "cell_type": "code",
   "execution_count": 198,
   "metadata": {},
   "outputs": [
    {
     "data": {
      "text/plain": [
       "Period('2014-06-12', 'D')"
      ]
     },
     "execution_count": 198,
     "metadata": {},
     "output_type": "execute_result"
    }
   ],
   "source": [
    "worldCupKickoff=pd.Period('06/12/2014','D')\n",
    "worldCupKickoff"
   ]
  },
  {
   "cell_type": "code",
   "execution_count": 199,
   "metadata": {},
   "outputs": [
    {
     "data": {
      "text/plain": [
       "Timestamp('2014-06-12 00:00:00')"
      ]
     },
     "execution_count": 199,
     "metadata": {},
     "output_type": "execute_result"
    }
   ],
   "source": [
    "worldCupKickoff.to_timestamp()"
   ]
  },
  {
   "cell_type": "code",
   "execution_count": 200,
   "metadata": {},
   "outputs": [
    {
     "data": {
      "text/plain": [
       "<class 'pandas.tseries.index.DatetimeIndex'>\n",
       "[2014-06-12, ..., 2014-07-13]\n",
       "Length: 32, Freq: D, Timezone: None"
      ]
     },
     "execution_count": 200,
     "metadata": {},
     "output_type": "execute_result"
    }
   ],
   "source": [
    "worldCupDays=pd.date_range('06/12/2014',periods=32,   \n",
    "                                      freq='D')\n",
    "worldCupDays"
   ]
  },
  {
   "cell_type": "code",
   "execution_count": 201,
   "metadata": {},
   "outputs": [
    {
     "data": {
      "text/plain": [
       "<class 'pandas.tseries.period.PeriodIndex'>\n",
       "[2014-06-12, ..., 2014-07-13]\n",
       "Length: 32, Freq: D"
      ]
     },
     "execution_count": 201,
     "metadata": {},
     "output_type": "execute_result"
    }
   ],
   "source": [
    "worldCupDays.to_period()"
   ]
  },
  {
   "cell_type": "markdown",
   "metadata": {},
   "source": [
    "<h2>Plotting Using matplotlib</h2>"
   ]
  },
  {
   "cell_type": "code",
   "execution_count": 202,
   "metadata": {
    "collapsed": true
   },
   "outputs": [],
   "source": [
    "X = np.linspace(-np.pi, np.pi, 256,endpoint=True)"
   ]
  },
  {
   "cell_type": "code",
   "execution_count": 203,
   "metadata": {
    "collapsed": true
   },
   "outputs": [],
   "source": [
    "f,g = np.cos(X)+np.sin(X), np.sin(X)-np.cos(X)"
   ]
  },
  {
   "cell_type": "code",
   "execution_count": 204,
   "metadata": {
    "collapsed": true
   },
   "outputs": [],
   "source": [
    "f_ser=pd.Series(f)\n",
    "g_ser=pd.Series(g)"
   ]
  },
  {
   "cell_type": "code",
   "execution_count": 205,
   "metadata": {},
   "outputs": [
    {
     "data": {
      "text/html": [
       "<div style=\"max-height:1000px;max-width:1500px;overflow:auto;\">\n",
       "<table border=\"1\" class=\"dataframe\">\n",
       "  <thead>\n",
       "    <tr style=\"text-align: right;\">\n",
       "      <th></th>\n",
       "      <th>sin(x)+cos(x)</th>\n",
       "      <th>sin(x)-cos(x)</th>\n",
       "    </tr>\n",
       "  </thead>\n",
       "  <tbody>\n",
       "    <tr>\n",
       "      <th>-3.1416</th>\n",
       "      <td>-1.0000</td>\n",
       "      <td> 1.0000</td>\n",
       "    </tr>\n",
       "    <tr>\n",
       "      <th>-3.1170</th>\n",
       "      <td>-1.0243</td>\n",
       "      <td> 0.9751</td>\n",
       "    </tr>\n",
       "    <tr>\n",
       "      <th>-3.0923</th>\n",
       "      <td>-1.0480</td>\n",
       "      <td> 0.9495</td>\n",
       "    </tr>\n",
       "    <tr>\n",
       "      <th>-3.0677</th>\n",
       "      <td>-1.0711</td>\n",
       "      <td> 0.9234</td>\n",
       "    </tr>\n",
       "    <tr>\n",
       "      <th>-3.0430</th>\n",
       "      <td>-1.0935</td>\n",
       "      <td> 0.8967</td>\n",
       "    </tr>\n",
       "  </tbody>\n",
       "</table>\n",
       "</div>"
      ],
      "text/plain": [
       "         sin(x)+cos(x)  sin(x)-cos(x)\n",
       "-3.1416        -1.0000         1.0000\n",
       "-3.1170        -1.0243         0.9751\n",
       "-3.0923        -1.0480         0.9495\n",
       "-3.0677        -1.0711         0.9234\n",
       "-3.0430        -1.0935         0.8967"
      ]
     },
     "execution_count": 205,
     "metadata": {},
     "output_type": "execute_result"
    }
   ],
   "source": [
    "plotDF=pd.concat([f_ser,g_ser],axis=1)\n",
    "plotDF.index=X\n",
    "plotDF.columns=['sin(x)+cos(x)','sin(x)-cos(x)']\n",
    "plotDF.head()"
   ]
  },
  {
   "cell_type": "code",
   "execution_count": 206,
   "metadata": {},
   "outputs": [
    {
     "data": {
      "image/png": "[encoded data removed]",
      "text/plain": [
       "<matplotlib.figure.Figure at 0x108fdf790>"
      ]
     },
     "metadata": {},
     "output_type": "display_data"
    }
   ],
   "source": [
    "plotDF.plot()\n",
    "plt.show()"
   ]
  },
  {
   "cell_type": "code",
   "execution_count": 207,
   "metadata": {},
   "outputs": [
    {
     "data": {
      "image/png": "[encoded data removed]",
      "text/plain": [
       "<matplotlib.figure.Figure at 0x108fdf710>"
      ]
     },
     "metadata": {},
     "output_type": "display_data"
    }
   ],
   "source": [
    "plotDF.columns=['f(x)','g(x)']\n",
    "plotDF.plot(title='Plot of f(x)=sin(x)+cos(x), \\n         g(x)=sinx(x)-cos(x)')\n",
    "plt.show()"
   ]
  },
  {
   "cell_type": "markdown",
   "metadata": {},
   "source": [
    "<b>Plot functions separately</b>"
   ]
  },
  {
   "cell_type": "code",
   "execution_count": 208,
   "metadata": {},
   "outputs": [
    {
     "data": {
      "image/png": "[encoded data removed]",
      "text/plain": [
       "<matplotlib.figure.Figure at 0x101edb490>"
      ]
     },
     "metadata": {},
     "output_type": "display_data"
    }
   ],
   "source": [
    "plotDF.plot(subplots=True, figsize=(6,6))\n",
    "plt.show()"
   ]
  },
  {
   "cell_type": "code",
   "execution_count": null,
   "metadata": {
    "collapsed": true
   },
   "outputs": [],
   "source": [
    ""
   ]
  }
 ],
 "metadata": {
  "kernelspec": {
   "display_name": "Python 3",
   "language": "python",
   "name": "python3"
  },
  "language_info": {
   "codemirror_mode": {
    "name": "ipython",
    "version": 3.0
   },
   "file_extension": ".py",
   "mimetype": "text/x-python",
   "name": "python",
   "nbconvert_exporter": "python",
   "pygments_lexer": "ipython3",
   "version": "3.6.1"
  }
 },
 "nbformat": 4,
 "nbformat_minor": 0
}